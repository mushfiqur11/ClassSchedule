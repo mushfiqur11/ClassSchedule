{
 "cells": [
  {
   "cell_type": "code",
   "execution_count": 1,
   "metadata": {},
   "outputs": [],
   "source": [
    "import os\n",
    "import numpy as np\n",
    "import pandas as pd\n",
    "import pymzn\n",
    "import time"
   ]
  },
  {
   "cell_type": "code",
   "execution_count": 2,
   "metadata": {},
   "outputs": [],
   "source": [
    "rooms = 8\n",
    "slots = 6\n",
    "days = 5"
   ]
  },
  {
   "cell_type": "markdown",
   "metadata": {},
   "source": [
    "### Import Files"
   ]
  },
  {
   "cell_type": "code",
   "execution_count": 3,
   "metadata": {},
   "outputs": [],
   "source": [
    "data = pd.read_csv(\"classDetails2.csv\")\n",
    "data = data"
   ]
  },
  {
   "cell_type": "code",
   "execution_count": 4,
   "metadata": {},
   "outputs": [
    {
     "name": "stdout",
     "output_type": "stream",
     "text": [
      "24 16 48\n"
     ]
    }
   ],
   "source": [
    "classDetails2 = data.to_numpy(dtype=int).tolist()\n",
    "# print(classDetails)\n",
    "sections1 = max(data[\"Section1\"].to_numpy(dtype=int))\n",
    "sections2 = max(data[\"Section2\"].to_numpy(dtype=int))\n",
    "sections = max(sections1,sections2)\n",
    "teachers = max(data[\"Teacher\"].to_numpy(dtype=int))\n",
    "classes = int(len(data))\n",
    "classCredits = np.ones((classes)) * 3\n",
    "classCredits = classCredits.astype(int).tolist()\n",
    "print(teachers,sections,classes)"
   ]
  },
  {
   "cell_type": "markdown",
   "metadata": {},
   "source": [
    "### Initialize Rest"
   ]
  },
  {
   "cell_type": "code",
   "execution_count": 5,
   "metadata": {},
   "outputs": [],
   "source": [
    "tBusy = np.zeros((teachers,5,6))\n",
    "for i in range(0,6):\n",
    "    tBusy[0,0,i] = 1\n",
    "    tBusy[0,1,i] = 1\n",
    "    tBusy[1,0,i] = 1\n",
    "# print(tBusy.astype(int))\n",
    "teacherBusy = tBusy.astype(int).tolist()"
   ]
  },
  {
   "cell_type": "markdown",
   "metadata": {},
   "source": [
    "### Minizinc Model 1"
   ]
  },
  {
   "cell_type": "markdown",
   "metadata": {},
   "source": [
    "#### Data Preparation"
   ]
  },
  {
   "cell_type": "code",
   "execution_count": 9,
   "metadata": {},
   "outputs": [
    {
     "ename": "NameError",
     "evalue": "name 'classCredits' is not defined",
     "output_type": "error",
     "traceback": [
      "\u001b[0;31m---------------------------------------------------------------------------\u001b[0m",
      "\u001b[0;31mNameError\u001b[0m                                 Traceback (most recent call last)",
      "\u001b[0;32m<ipython-input-9-ec11d23d5c93>\u001b[0m in \u001b[0;36m<module>\u001b[0;34m\u001b[0m\n\u001b[1;32m      8\u001b[0m \u001b[0mnewDict\u001b[0m\u001b[0;34m[\u001b[0m\u001b[0;34m\"classDetails\"\u001b[0m\u001b[0;34m]\u001b[0m \u001b[0;34m=\u001b[0m \u001b[0mclassDetails2\u001b[0m\u001b[0;34m\u001b[0m\u001b[0;34m\u001b[0m\u001b[0m\n\u001b[1;32m      9\u001b[0m \u001b[0mnewDict\u001b[0m\u001b[0;34m[\u001b[0m\u001b[0;34m\"teacherBusy\"\u001b[0m\u001b[0;34m]\u001b[0m \u001b[0;34m=\u001b[0m \u001b[0mteacherBusy\u001b[0m\u001b[0;34m\u001b[0m\u001b[0;34m\u001b[0m\u001b[0m\n\u001b[0;32m---> 10\u001b[0;31m \u001b[0mnewDict\u001b[0m\u001b[0;34m[\u001b[0m\u001b[0;34m\"classCredits\"\u001b[0m\u001b[0;34m]\u001b[0m \u001b[0;34m=\u001b[0m \u001b[0mclassCredits\u001b[0m\u001b[0;34m\u001b[0m\u001b[0;34m\u001b[0m\u001b[0m\n\u001b[0m\u001b[1;32m     11\u001b[0m \u001b[0;34m\u001b[0m\u001b[0m\n\u001b[1;32m     12\u001b[0m \u001b[0mpymzn\u001b[0m\u001b[0;34m.\u001b[0m\u001b[0mdict2dzn\u001b[0m\u001b[0;34m(\u001b[0m\u001b[0mnewDict\u001b[0m\u001b[0;34m)\u001b[0m\u001b[0;34m\u001b[0m\u001b[0;34m\u001b[0m\u001b[0m\n",
      "\u001b[0;31mNameError\u001b[0m: name 'classCredits' is not defined"
     ]
    }
   ],
   "source": [
    "newDict = {}\n",
    "newDict[\"days\"] = days\n",
    "newDict[\"slots\"] = slots\n",
    "newDict[\"classes\"] = classes\n",
    "newDict[\"rooms\"] = rooms\n",
    "newDict[\"sections\"] = sections\n",
    "newDict[\"teachers\"] = teachers\n",
    "newDict[\"classDetails\"] = classDetails2\n",
    "newDict[\"teacherBusy\"] = teacherBusy\n",
    "newDict[\"classCredits\"] = classCredits\n",
    "\n",
    "pymzn.dict2dzn(newDict)\n",
    "newDict"
   ]
  },
  {
   "cell_type": "code",
   "execution_count": 7,
   "metadata": {},
   "outputs": [
    {
     "ename": "MiniZincError",
     "evalue": "An error occurred while executing minizinc on file \n\ninclude \"globals.mzn\";\ninclude \"alldifferent.mzn\";\nint:days;\nset of int: slotsPerDay = 1..6;\nint:slots;\nset of int: daysPerWeek = 1..5;\n\nset of int: properties = 1..3; \n%property0 = teacher\n%property1 = section1\n%property2 = section2\n\nint: classes;\nint: rooms;\nint: sections;\nint: teachers;\n\nset of int: sectionList = 1..sections;\nset of int: teacherList = 1..teachers;\nset of int: roomList = 1..rooms;\nset of int: classList = 1..classes;\nset of int: classIndex = 0..classes;\n\narray[classList,properties] of int: classDetails;\narray[teacherList,daysPerWeek,slotsPerDay] of 0..1: teacherBusy;\narray[classList] of int: classCredits;\n\narray[teacherList,daysPerWeek,slotsPerDay] of var classIndex: teacherRoutine;\narray[sectionList,daysPerWeek,slotsPerDay] of var classIndex: sectionRoutine;\narray[roomList,daysPerWeek,slotsPerDay] of var classIndex: roomRoutine;\n\n% room numbers considered\n% (tested)\nconstraint \nforall(d in daysPerWeek,s in slotsPerDay)\n    (\n           sum(t in teacherList)\n           (if teacherRoutine[t,d,s]!=0 \n               then 1 \n               else 0 \n           endif) <= rooms\n    );\n\n% Only assigned sections can attend a class. And a section can attend a class only once in a given day\n% (tested)\nconstraint \nforall(i in classList,sec in sectionList)\n    (if classDetails[i,2] != sec /\\\n        classDetails[i,3] != sec\n        then forall(d in daysPerWeek,s in slotsPerDay)\n           (sectionRoutine[sec,d,s] != i) \n        else \n          forall(d in daysPerWeek)\n            (sum(s in slotsPerDay)\n               (if sectionRoutine[sec,d,s] == i \n                   then 1 \n                   else 0 \n               endif) <= 1)\n    endif);\n\n% only assigned teachers will conduct a class and same class will not be repeated in the same day\n% (tested)\n\nconstraint \nforall(i in classList,t in teacherList)\n    (if classDetails[i,1] != t\n      then forall(d in daysPerWeek,s in slotsPerDay)\n        (teacherRoutine[t,d,s] != i) \n      else forall(d in daysPerWeek)\n        (sum(s in slotsPerDay)\n        (if teacherRoutine[classDetails[i,1],d,s] == i \n            then 1 \n            else 0 \n        endif) <= 1)\n    endif);\n\n% total hours of each course will be equal to credits\n% (tested)\n\nconstraint \nforall(i in classList)\n    (sum(d in daysPerWeek,s in slotsPerDay)\n    (if teacherRoutine[classDetails[i,1],d,s] == i \n        then 1 \n        else 0 \n    endif) == classCredits[i]\n    );\n\n\n\n% matching teachers' routine with students'\n% (tested)\n\nconstraint \nforall(t in teacherList,d in daysPerWeek, s in slotsPerDay)\n    (if teacherRoutine[t,d,s] > 0\n      then \n        sectionRoutine[classDetails[teacherRoutine[t,d,s],2],d,s] \n            == teacherRoutine[t,d,s] \n        /\\ \n        sectionRoutine[classDetails[teacherRoutine[t,d,s],3],d,s] \n            == teacherRoutine[t,d,s]\n      else true \n    endif);\n\n% matching students' routine with teachers'\n% (tested)\n\nconstraint \nforall(sec in sectionList,d in daysPerWeek, s in slotsPerDay)\n    (if sectionRoutine[sec,d,s] > 0\n      then teacherRoutine[classDetails[sectionRoutine[sec,d,s],1],d,s] \n          == sectionRoutine[sec,d,s]\n      else true \n    endif\n    );\n\n% considering teacher's availability\n% (tested)\n\nconstraint\nforall(t in teacherList, d in daysPerWeek, s in slotsPerDay)\n    (\n        if teacherBusy[t,d,s] == 1\n        then teacherRoutine[t,d,s] = 0\n        else true\n        endif\n    );\n\nsolve satisfy;\n with command line arguments: ['--model-check-only', '-']\n\nConfig exception: no solver selected\n",
     "output_type": "error",
     "traceback": [
      "\u001b[0;31m---------------------------------------------------------------------------\u001b[0m",
      "\u001b[0;31mMiniZincError\u001b[0m                             Traceback (most recent call last)",
      "\u001b[0;32m<ipython-input-7-e7818d27a684>\u001b[0m in \u001b[0;36m<module>\u001b[0;34m\u001b[0m\n\u001b[1;32m      1\u001b[0m \u001b[0mstart\u001b[0m \u001b[0;34m=\u001b[0m \u001b[0mtime\u001b[0m\u001b[0;34m.\u001b[0m\u001b[0mtime\u001b[0m\u001b[0;34m(\u001b[0m\u001b[0;34m)\u001b[0m\u001b[0;34m\u001b[0m\u001b[0;34m\u001b[0m\u001b[0m\n\u001b[0;32m----> 2\u001b[0;31m \u001b[0mnewData\u001b[0m \u001b[0;34m=\u001b[0m \u001b[0mpymzn\u001b[0m\u001b[0;34m.\u001b[0m\u001b[0mminizinc\u001b[0m\u001b[0;34m(\u001b[0m\u001b[0mmzn\u001b[0m \u001b[0;34m=\u001b[0m \u001b[0;34m\"master_v7.mzn\"\u001b[0m\u001b[0;34m,\u001b[0m \u001b[0mdata\u001b[0m \u001b[0;34m=\u001b[0m \u001b[0mnewDict\u001b[0m\u001b[0;34m,\u001b[0m \u001b[0msolver\u001b[0m \u001b[0;34m=\u001b[0m \u001b[0mpymzn\u001b[0m\u001b[0;34m.\u001b[0m\u001b[0mchuffed\u001b[0m\u001b[0;34m)\u001b[0m\u001b[0;34m\u001b[0m\u001b[0;34m\u001b[0m\u001b[0m\n\u001b[0m\u001b[1;32m      3\u001b[0m \u001b[0mend\u001b[0m \u001b[0;34m=\u001b[0m \u001b[0mtime\u001b[0m\u001b[0;34m.\u001b[0m\u001b[0mtime\u001b[0m\u001b[0;34m(\u001b[0m\u001b[0;34m)\u001b[0m\u001b[0;34m\u001b[0m\u001b[0;34m\u001b[0m\u001b[0m\n\u001b[1;32m      4\u001b[0m \u001b[0mprint\u001b[0m\u001b[0;34m(\u001b[0m\u001b[0mend\u001b[0m\u001b[0;34m-\u001b[0m\u001b[0mstart\u001b[0m\u001b[0;34m)\u001b[0m\u001b[0;34m\u001b[0m\u001b[0;34m\u001b[0m\u001b[0m\n",
      "\u001b[0;32m~/anaconda3/lib/python3.7/site-packages/pymzn/mzn/minizinc.py\u001b[0m in \u001b[0;36mminizinc\u001b[0;34m(mzn, args, data, include, stdlib_dir, globals_dir, declare_enums, allow_multiple_assignments, keep, output_vars, output_base, output_mode, solver, timeout, two_pass, pre_passes, output_objective, non_unique, all_solutions, num_solutions, free_search, parallel, seed, rebase_arrays, keep_solutions, return_enums, *dzn_files, **kwargs)\u001b[0m\n\u001b[1;32m    649\u001b[0m             \u001b[0moutput_vars\u001b[0m\u001b[0;34m=\u001b[0m\u001b[0moutput_vars\u001b[0m\u001b[0;34m,\u001b[0m \u001b[0mkeep\u001b[0m\u001b[0;34m=\u001b[0m\u001b[0mkeep\u001b[0m\u001b[0;34m,\u001b[0m \u001b[0moutput_base\u001b[0m\u001b[0;34m=\u001b[0m\u001b[0moutput_base\u001b[0m\u001b[0;34m,\u001b[0m\u001b[0;34m\u001b[0m\u001b[0;34m\u001b[0m\u001b[0m\n\u001b[1;32m    650\u001b[0m             \u001b[0moutput_mode\u001b[0m\u001b[0;34m=\u001b[0m\u001b[0moutput_mode\u001b[0m\u001b[0;34m,\u001b[0m \u001b[0mdeclare_enums\u001b[0m\u001b[0;34m=\u001b[0m\u001b[0mdeclare_enums\u001b[0m\u001b[0;34m,\u001b[0m\u001b[0;34m\u001b[0m\u001b[0;34m\u001b[0m\u001b[0m\n\u001b[0;32m--> 651\u001b[0;31m             \u001b[0mallow_multiple_assignments\u001b[0m\u001b[0;34m=\u001b[0m\u001b[0mallow_multiple_assignments\u001b[0m\u001b[0;34m\u001b[0m\u001b[0;34m\u001b[0m\u001b[0m\n\u001b[0m\u001b[1;32m    652\u001b[0m         )\n\u001b[1;32m    653\u001b[0m \u001b[0;34m\u001b[0m\u001b[0m\n",
      "\u001b[0;32m~/anaconda3/lib/python3.7/site-packages/pymzn/mzn/minizinc.py\u001b[0m in \u001b[0;36m_minizinc_preliminaries\u001b[0;34m(mzn, args, data, include, stdlib_dir, globals_dir, output_vars, keep, output_base, output_mode, declare_enums, allow_multiple_assignments, *dzn_files)\u001b[0m\n\u001b[1;32m    470\u001b[0m \u001b[0;34m\u001b[0m\u001b[0m\n\u001b[1;32m    471\u001b[0m     check_model(\n\u001b[0;32m--> 472\u001b[0;31m         \u001b[0mmodel\u001b[0m\u001b[0;34m,\u001b[0m \u001b[0minclude\u001b[0m\u001b[0;34m=\u001b[0m\u001b[0minclude\u001b[0m\u001b[0;34m,\u001b[0m \u001b[0mstdlib_dir\u001b[0m\u001b[0;34m=\u001b[0m\u001b[0mstdlib_dir\u001b[0m\u001b[0;34m,\u001b[0m \u001b[0mglobals_dir\u001b[0m\u001b[0;34m=\u001b[0m\u001b[0mglobals_dir\u001b[0m\u001b[0;34m\u001b[0m\u001b[0;34m\u001b[0m\u001b[0m\n\u001b[0m\u001b[1;32m    473\u001b[0m     )\n\u001b[1;32m    474\u001b[0m \u001b[0;34m\u001b[0m\u001b[0m\n",
      "\u001b[0;32m~/anaconda3/lib/python3.7/site-packages/pymzn/mzn/minizinc.py\u001b[0m in \u001b[0;36mcheck_model\u001b[0;34m(mzn, include, stdlib_dir, globals_dir)\u001b[0m\n\u001b[1;32m    427\u001b[0m     \u001b[0;32mif\u001b[0m \u001b[0mproc\u001b[0m\u001b[0;34m.\u001b[0m\u001b[0mstderr_data\u001b[0m\u001b[0;34m:\u001b[0m\u001b[0;34m\u001b[0m\u001b[0;34m\u001b[0m\u001b[0m\n\u001b[1;32m    428\u001b[0m         raise MiniZincError(\n\u001b[0;32m--> 429\u001b[0;31m             \u001b[0mmzn\u001b[0m \u001b[0;32mif\u001b[0m \u001b[0minput\u001b[0m \u001b[0;32mis\u001b[0m \u001b[0;32mNone\u001b[0m \u001b[0;32melse\u001b[0m \u001b[0;34m'\\n'\u001b[0m \u001b[0;34m+\u001b[0m \u001b[0mmzn\u001b[0m \u001b[0;34m+\u001b[0m \u001b[0;34m'\\n'\u001b[0m\u001b[0;34m,\u001b[0m \u001b[0margs\u001b[0m\u001b[0;34m,\u001b[0m \u001b[0mproc\u001b[0m\u001b[0;34m.\u001b[0m\u001b[0mstderr_data\u001b[0m\u001b[0;34m\u001b[0m\u001b[0;34m\u001b[0m\u001b[0m\n\u001b[0m\u001b[1;32m    430\u001b[0m         )\n\u001b[1;32m    431\u001b[0m \u001b[0;34m\u001b[0m\u001b[0m\n",
      "\u001b[0;31mMiniZincError\u001b[0m: An error occurred while executing minizinc on file \n\ninclude \"globals.mzn\";\ninclude \"alldifferent.mzn\";\nint:days;\nset of int: slotsPerDay = 1..6;\nint:slots;\nset of int: daysPerWeek = 1..5;\n\nset of int: properties = 1..3; \n%property0 = teacher\n%property1 = section1\n%property2 = section2\n\nint: classes;\nint: rooms;\nint: sections;\nint: teachers;\n\nset of int: sectionList = 1..sections;\nset of int: teacherList = 1..teachers;\nset of int: roomList = 1..rooms;\nset of int: classList = 1..classes;\nset of int: classIndex = 0..classes;\n\narray[classList,properties] of int: classDetails;\narray[teacherList,daysPerWeek,slotsPerDay] of 0..1: teacherBusy;\narray[classList] of int: classCredits;\n\narray[teacherList,daysPerWeek,slotsPerDay] of var classIndex: teacherRoutine;\narray[sectionList,daysPerWeek,slotsPerDay] of var classIndex: sectionRoutine;\narray[roomList,daysPerWeek,slotsPerDay] of var classIndex: roomRoutine;\n\n% room numbers considered\n% (tested)\nconstraint \nforall(d in daysPerWeek,s in slotsPerDay)\n    (\n           sum(t in teacherList)\n           (if teacherRoutine[t,d,s]!=0 \n               then 1 \n               else 0 \n           endif) <= rooms\n    );\n\n% Only assigned sections can attend a class. And a section can attend a class only once in a given day\n% (tested)\nconstraint \nforall(i in classList,sec in sectionList)\n    (if classDetails[i,2] != sec /\\\n        classDetails[i,3] != sec\n        then forall(d in daysPerWeek,s in slotsPerDay)\n           (sectionRoutine[sec,d,s] != i) \n        else \n          forall(d in daysPerWeek)\n            (sum(s in slotsPerDay)\n               (if sectionRoutine[sec,d,s] == i \n                   then 1 \n                   else 0 \n               endif) <= 1)\n    endif);\n\n% only assigned teachers will conduct a class and same class will not be repeated in the same day\n% (tested)\n\nconstraint \nforall(i in classList,t in teacherList)\n    (if classDetails[i,1] != t\n      then forall(d in daysPerWeek,s in slotsPerDay)\n        (teacherRoutine[t,d,s] != i) \n      else forall(d in daysPerWeek)\n        (sum(s in slotsPerDay)\n        (if teacherRoutine[classDetails[i,1],d,s] == i \n            then 1 \n            else 0 \n        endif) <= 1)\n    endif);\n\n% total hours of each course will be equal to credits\n% (tested)\n\nconstraint \nforall(i in classList)\n    (sum(d in daysPerWeek,s in slotsPerDay)\n    (if teacherRoutine[classDetails[i,1],d,s] == i \n        then 1 \n        else 0 \n    endif) == classCredits[i]\n    );\n\n\n\n% matching teachers' routine with students'\n% (tested)\n\nconstraint \nforall(t in teacherList,d in daysPerWeek, s in slotsPerDay)\n    (if teacherRoutine[t,d,s] > 0\n      then \n        sectionRoutine[classDetails[teacherRoutine[t,d,s],2],d,s] \n            == teacherRoutine[t,d,s] \n        /\\ \n        sectionRoutine[classDetails[teacherRoutine[t,d,s],3],d,s] \n            == teacherRoutine[t,d,s]\n      else true \n    endif);\n\n% matching students' routine with teachers'\n% (tested)\n\nconstraint \nforall(sec in sectionList,d in daysPerWeek, s in slotsPerDay)\n    (if sectionRoutine[sec,d,s] > 0\n      then teacherRoutine[classDetails[sectionRoutine[sec,d,s],1],d,s] \n          == sectionRoutine[sec,d,s]\n      else true \n    endif\n    );\n\n% considering teacher's availability\n% (tested)\n\nconstraint\nforall(t in teacherList, d in daysPerWeek, s in slotsPerDay)\n    (\n        if teacherBusy[t,d,s] == 1\n        then teacherRoutine[t,d,s] = 0\n        else true\n        endif\n    );\n\nsolve satisfy;\n with command line arguments: ['--model-check-only', '-']\n\nConfig exception: no solver selected\n"
     ]
    }
   ],
   "source": [
    "start = time.time()\n",
    "newData = pymzn.minizinc(mzn = \"master_v7.mzn\", data = newDict, solver = pymzn.chuffed)\n",
    "end = time.time()\n",
    "print(end-start)"
   ]
  },
  {
   "cell_type": "code",
   "execution_count": 8,
   "metadata": {},
   "outputs": [],
   "source": [
    "# teacherRoutine = newData[0][\"teacherRoutine\"]\n",
    "# sectionRoutine = newData[0][\"sectionRoutine\"]\n",
    "# roomRoutine = newData[0][\"roomRoutine\"]\n",
    "if len(newData)>0:\n",
    "    teacherRoutine = newData[0][\"teacherRoutine\"]\n",
    "    sectionRoutine = newData[0][\"sectionRoutine\"]\n",
    "    roomRoutine = newData[0][\"roomRoutine\"]\n",
    "\n",
    "else:\n",
    "    print(newData)"
   ]
  },
  {
   "cell_type": "code",
   "execution_count": 9,
   "metadata": {},
   "outputs": [
    {
     "data": {
      "text/plain": [
       "[[[0, 0, 0, 0, 0, 0],\n",
       "  [0, 0, 0, 0, 0, 0],\n",
       "  [0, 0, 1, 0, 2, 0],\n",
       "  [0, 0, 1, 0, 2, 0],\n",
       "  [0, 0, 2, 0, 0, 1]],\n",
       " [[0, 0, 0, 0, 0, 0],\n",
       "  [0, 4, 0, 3, 0, 0],\n",
       "  [4, 0, 0, 0, 3, 0],\n",
       "  [3, 0, 4, 0, 0, 0],\n",
       "  [0, 0, 0, 0, 0, 0]],\n",
       " [[0, 0, 5, 0, 0, 0],\n",
       "  [0, 0, 0, 0, 0, 0],\n",
       "  [0, 0, 6, 0, 0, 5],\n",
       "  [0, 0, 0, 6, 0, 0],\n",
       "  [0, 0, 0, 5, 6, 0]],\n",
       " [[0, 0, 0, 0, 0, 0],\n",
       "  [0, 7, 0, 0, 0, 0],\n",
       "  [7, 0, 0, 0, 0, 8],\n",
       "  [8, 7, 0, 0, 0, 0],\n",
       "  [0, 0, 0, 0, 0, 8]],\n",
       " [[0, 0, 0, 0, 0, 0],\n",
       "  [0, 0, 0, 0, 10, 0],\n",
       "  [0, 9, 0, 10, 0, 0],\n",
       "  [0, 10, 0, 0, 0, 9],\n",
       "  [0, 0, 9, 0, 0, 0]],\n",
       " [[0, 0, 0, 0, 0, 0],\n",
       "  [0, 0, 0, 12, 11, 0],\n",
       "  [0, 12, 0, 11, 0, 0],\n",
       "  [0, 0, 0, 11, 0, 12],\n",
       "  [0, 0, 0, 0, 0, 0]],\n",
       " [[0, 0, 0, 0, 0, 0],\n",
       "  [0, 13, 0, 14, 0, 0],\n",
       "  [14, 0, 0, 0, 13, 0],\n",
       "  [13, 0, 0, 0, 14, 0],\n",
       "  [0, 0, 0, 0, 0, 0]],\n",
       " [[0, 0, 0, 0, 0, 0],\n",
       "  [0, 0, 0, 15, 0, 0],\n",
       "  [15, 16, 0, 0, 0, 0],\n",
       "  [0, 0, 16, 0, 0, 15],\n",
       "  [0, 0, 0, 0, 16, 0]],\n",
       " [[0, 0, 18, 0, 0, 0],\n",
       "  [0, 18, 0, 0, 0, 0],\n",
       "  [0, 0, 0, 17, 18, 0],\n",
       "  [0, 17, 0, 0, 0, 0],\n",
       "  [0, 0, 0, 0, 17, 0]],\n",
       " [[0, 0, 0, 0, 0, 0],\n",
       "  [0, 0, 0, 0, 0, 19],\n",
       "  [0, 19, 0, 20, 0, 0],\n",
       "  [0, 0, 0, 20, 0, 0],\n",
       "  [0, 19, 0, 0, 0, 20]],\n",
       " [[0, 0, 21, 0, 0, 0],\n",
       "  [0, 0, 0, 0, 22, 0],\n",
       "  [0, 0, 0, 0, 0, 21],\n",
       "  [0, 0, 21, 0, 0, 22],\n",
       "  [0, 0, 0, 22, 0, 0]],\n",
       " [[0, 0, 0, 0, 0, 0],\n",
       "  [0, 0, 0, 0, 23, 0],\n",
       "  [0, 0, 0, 0, 0, 24],\n",
       "  [0, 24, 0, 0, 23, 0],\n",
       "  [0, 0, 24, 23, 0, 0]],\n",
       " [[0, 0, 25, 0, 0, 0],\n",
       "  [0, 0, 0, 0, 26, 0],\n",
       "  [0, 25, 0, 0, 26, 0],\n",
       "  [0, 0, 25, 26, 0, 0],\n",
       "  [0, 0, 0, 0, 0, 0]],\n",
       " [[0, 0, 0, 0, 0, 0],\n",
       "  [0, 0, 27, 0, 0, 0],\n",
       "  [0, 0, 0, 28, 0, 0],\n",
       "  [0, 0, 0, 27, 0, 28],\n",
       "  [0, 27, 0, 28, 0, 0]],\n",
       " [[0, 0, 0, 0, 0, 30],\n",
       "  [0, 0, 0, 0, 0, 0],\n",
       "  [0, 0, 29, 0, 0, 30],\n",
       "  [0, 0, 0, 0, 0, 29],\n",
       "  [0, 0, 29, 0, 30, 0]],\n",
       " [[0, 0, 0, 0, 0, 0],\n",
       "  [0, 0, 0, 0, 0, 32],\n",
       "  [0, 0, 32, 31, 0, 0],\n",
       "  [0, 31, 0, 0, 0, 0],\n",
       "  [0, 0, 32, 0, 31, 0]],\n",
       " [[0, 0, 0, 0, 0, 0],\n",
       "  [0, 34, 0, 33, 0, 0],\n",
       "  [33, 34, 0, 0, 0, 0],\n",
       "  [0, 34, 0, 0, 0, 0],\n",
       "  [0, 0, 0, 0, 0, 33]],\n",
       " [[0, 0, 0, 0, 0, 0],\n",
       "  [0, 35, 0, 36, 0, 0],\n",
       "  [36, 0, 0, 0, 35, 0],\n",
       "  [0, 0, 0, 0, 0, 0],\n",
       "  [0, 0, 0, 35, 0, 36]],\n",
       " [[0, 0, 0, 0, 0, 0],\n",
       "  [0, 37, 0, 38, 0, 0],\n",
       "  [0, 0, 0, 0, 38, 0],\n",
       "  [0, 0, 0, 0, 37, 0],\n",
       "  [0, 38, 0, 0, 37, 0]],\n",
       " [[0, 0, 40, 0, 0, 0],\n",
       "  [0, 0, 0, 39, 0, 0],\n",
       "  [0, 0, 0, 0, 39, 0],\n",
       "  [0, 40, 39, 0, 0, 0],\n",
       "  [0, 0, 0, 0, 0, 40]],\n",
       " [[0, 0, 0, 0, 0, 0],\n",
       "  [0, 0, 0, 0, 0, 0],\n",
       "  [0, 42, 0, 41, 0, 0],\n",
       "  [0, 41, 0, 42, 0, 0],\n",
       "  [0, 0, 42, 0, 0, 41]],\n",
       " [[0, 0, 0, 0, 0, 0],\n",
       "  [0, 0, 0, 0, 0, 44],\n",
       "  [0, 43, 0, 44, 0, 0],\n",
       "  [44, 0, 0, 0, 0, 43],\n",
       "  [0, 0, 0, 43, 0, 0]],\n",
       " [[0, 0, 0, 0, 0, 0],\n",
       "  [0, 0, 0, 0, 0, 45],\n",
       "  [45, 0, 0, 0, 0, 46],\n",
       "  [45, 0, 0, 0, 0, 46],\n",
       "  [0, 0, 0, 46, 0, 0]],\n",
       " [[0, 0, 0, 0, 0, 0],\n",
       "  [0, 0, 48, 0, 0, 0],\n",
       "  [48, 0, 47, 0, 0, 0],\n",
       "  [0, 0, 48, 47, 0, 0],\n",
       "  [0, 0, 47, 0, 0, 0]]]"
      ]
     },
     "execution_count": 9,
     "metadata": {},
     "output_type": "execute_result"
    }
   ],
   "source": [
    "teacherRoutine"
   ]
  },
  {
   "cell_type": "code",
   "execution_count": 10,
   "metadata": {},
   "outputs": [
    {
     "data": {
      "text/plain": [
       "[[[0, 0, 5, 0, 0, 0],\n",
       "  [0, 7, 0, 3, 11, 0],\n",
       "  [7, 9, 1, 11, 3, 5],\n",
       "  [3, 7, 1, 11, 0, 9],\n",
       "  [0, 0, 9, 5, 0, 1]],\n",
       " [[0, 0, 5, 0, 0, 0],\n",
       "  [0, 7, 0, 3, 11, 0],\n",
       "  [7, 9, 1, 11, 3, 5],\n",
       "  [3, 7, 1, 11, 0, 9],\n",
       "  [0, 0, 9, 5, 0, 1]],\n",
       " [[0, 0, 0, 0, 0, 0],\n",
       "  [0, 4, 0, 12, 10, 0],\n",
       "  [4, 12, 6, 10, 2, 8],\n",
       "  [8, 10, 4, 6, 2, 12],\n",
       "  [0, 0, 2, 0, 6, 8]],\n",
       " [[0, 0, 0, 0, 0, 0],\n",
       "  [0, 4, 0, 12, 10, 0],\n",
       "  [4, 12, 6, 10, 2, 8],\n",
       "  [8, 10, 4, 6, 2, 12],\n",
       "  [0, 0, 2, 0, 6, 8]],\n",
       " [[0, 0, 21, 0, 0, 0],\n",
       "  [0, 13, 0, 15, 23, 19],\n",
       "  [15, 19, 0, 17, 13, 21],\n",
       "  [13, 17, 21, 0, 23, 15],\n",
       "  [0, 19, 0, 23, 17, 0]],\n",
       " [[0, 0, 21, 0, 0, 0],\n",
       "  [0, 13, 0, 15, 23, 19],\n",
       "  [15, 19, 0, 17, 13, 21],\n",
       "  [13, 17, 21, 0, 23, 15],\n",
       "  [0, 19, 0, 23, 17, 0]],\n",
       " [[0, 0, 18, 0, 0, 0],\n",
       "  [0, 18, 0, 14, 22, 0],\n",
       "  [14, 16, 0, 20, 18, 24],\n",
       "  [0, 24, 16, 20, 14, 22],\n",
       "  [0, 0, 24, 22, 16, 20]],\n",
       " [[0, 0, 18, 0, 0, 0],\n",
       "  [0, 18, 0, 14, 22, 0],\n",
       "  [14, 16, 0, 20, 18, 24],\n",
       "  [0, 24, 16, 20, 14, 22],\n",
       "  [0, 0, 24, 22, 16, 20]],\n",
       " [[0, 0, 25, 0, 0, 0],\n",
       "  [0, 35, 27, 33, 0, 0],\n",
       "  [33, 25, 29, 31, 35, 0],\n",
       "  [0, 31, 25, 27, 0, 29],\n",
       "  [0, 27, 29, 35, 31, 33]],\n",
       " [[0, 0, 25, 0, 0, 0],\n",
       "  [0, 35, 27, 33, 0, 0],\n",
       "  [33, 25, 29, 31, 35, 0],\n",
       "  [0, 31, 25, 27, 0, 29],\n",
       "  [0, 27, 29, 35, 31, 33]],\n",
       " [[0, 0, 0, 0, 0, 30],\n",
       "  [0, 34, 0, 36, 26, 32],\n",
       "  [36, 34, 32, 28, 26, 30],\n",
       "  [0, 34, 0, 26, 0, 28],\n",
       "  [0, 0, 32, 28, 30, 36]],\n",
       " [[0, 0, 0, 0, 0, 30],\n",
       "  [0, 34, 0, 36, 26, 32],\n",
       "  [36, 34, 32, 28, 26, 30],\n",
       "  [0, 34, 0, 26, 0, 28],\n",
       "  [0, 0, 32, 28, 30, 36]],\n",
       " [[0, 0, 0, 0, 0, 0],\n",
       "  [0, 37, 0, 39, 0, 45],\n",
       "  [45, 43, 47, 41, 39, 0],\n",
       "  [45, 41, 39, 47, 37, 43],\n",
       "  [0, 0, 47, 43, 37, 41]],\n",
       " [[0, 0, 0, 0, 0, 0],\n",
       "  [0, 37, 0, 39, 0, 45],\n",
       "  [45, 43, 47, 41, 39, 0],\n",
       "  [45, 41, 39, 47, 37, 43],\n",
       "  [0, 0, 47, 43, 37, 41]],\n",
       " [[0, 0, 40, 0, 0, 0],\n",
       "  [0, 0, 48, 38, 0, 44],\n",
       "  [48, 42, 0, 44, 38, 46],\n",
       "  [44, 40, 48, 42, 0, 46],\n",
       "  [0, 38, 42, 46, 0, 40]],\n",
       " [[0, 0, 40, 0, 0, 0],\n",
       "  [0, 0, 48, 38, 0, 44],\n",
       "  [48, 42, 0, 44, 38, 46],\n",
       "  [44, 40, 48, 42, 0, 46],\n",
       "  [0, 38, 42, 46, 0, 40]]]"
      ]
     },
     "execution_count": 10,
     "metadata": {},
     "output_type": "execute_result"
    }
   ],
   "source": [
    "sectionRoutine"
   ]
  },
  {
   "cell_type": "markdown",
   "metadata": {},
   "source": [
    "### Print Output"
   ]
  },
  {
   "cell_type": "code",
   "execution_count": 11,
   "metadata": {
    "scrolled": false
   },
   "outputs": [],
   "source": [
    "roomRoutine = np.zeros((rooms,days,slots),dtype=int)\n",
    "for i in range(5):\n",
    "    for j in range(6):\n",
    "        myRoom = 0\n",
    "        for k in range(teachers):\n",
    "            if teacherRoutine[k][i][j] > 0:\n",
    "                try:\n",
    "                    roomRoutine[myRoom][i][j] = teacherRoutine[k][i][j]\n",
    "                    myRoom += 1\n",
    "                except:\n",
    "                    print(i,j)"
   ]
  },
  {
   "cell_type": "code",
   "execution_count": 12,
   "metadata": {},
   "outputs": [
    {
     "data": {
      "text/plain": [
       "array([[[ 0,  0,  5,  0,  0, 30],\n",
       "        [ 0,  4, 27,  3, 10, 19],\n",
       "        [ 4,  9,  1, 10,  2,  5],\n",
       "        [ 3,  7,  1,  6,  2,  9],\n",
       "        [ 0, 19,  2,  5,  6,  1]],\n",
       "\n",
       "       [[ 0,  0, 18,  0,  0,  0],\n",
       "        [ 0,  7, 48, 12, 11, 32],\n",
       "        [ 7, 12,  6, 11,  3,  8],\n",
       "        [ 8, 10,  4, 11, 14, 12],\n",
       "        [ 0, 27,  9, 22, 16,  8]],\n",
       "\n",
       "       [[ 0,  0, 21,  0,  0,  0],\n",
       "        [ 0, 13,  0, 14, 22, 44],\n",
       "        [14, 16, 29, 17, 13, 21],\n",
       "        [13, 17, 16, 20, 23, 15],\n",
       "        [ 0, 38, 24, 23, 17, 20]],\n",
       "\n",
       "       [[ 0,  0, 25,  0,  0,  0],\n",
       "        [ 0, 18,  0, 15, 23, 45],\n",
       "        [15, 19, 32, 20, 18, 24],\n",
       "        [44, 24, 21, 26, 37, 22],\n",
       "        [ 0,  0, 29, 28, 30, 33]],\n",
       "\n",
       "       [[ 0,  0, 40,  0,  0,  0],\n",
       "        [ 0, 34,  0, 33, 26,  0],\n",
       "        [33, 25, 47, 28, 26, 30],\n",
       "        [45, 31, 25, 27,  0, 28],\n",
       "        [ 0,  0, 32, 35, 31, 36]],\n",
       "\n",
       "       [[ 0,  0,  0,  0,  0,  0],\n",
       "        [ 0, 35,  0, 36,  0,  0],\n",
       "        [36, 34,  0, 31, 35, 46],\n",
       "        [ 0, 34, 39, 42,  0, 29],\n",
       "        [ 0,  0, 42, 43, 37, 40]],\n",
       "\n",
       "       [[ 0,  0,  0,  0,  0,  0],\n",
       "        [ 0, 37,  0, 38,  0,  0],\n",
       "        [45, 42,  0, 41, 38,  0],\n",
       "        [ 0, 40, 48, 47,  0, 43],\n",
       "        [ 0,  0, 47, 46,  0, 41]],\n",
       "\n",
       "       [[ 0,  0,  0,  0,  0,  0],\n",
       "        [ 0,  0,  0, 39,  0,  0],\n",
       "        [48, 43,  0, 44, 39,  0],\n",
       "        [ 0, 41,  0,  0,  0, 46],\n",
       "        [ 0,  0,  0,  0,  0,  0]]])"
      ]
     },
     "execution_count": 12,
     "metadata": {},
     "output_type": "execute_result"
    }
   ],
   "source": [
    "roomRoutine"
   ]
  },
  {
   "cell_type": "code",
   "execution_count": null,
   "metadata": {},
   "outputs": [],
   "source": []
  },
  {
   "cell_type": "code",
   "execution_count": null,
   "metadata": {},
   "outputs": [],
   "source": []
  }
 ],
 "metadata": {
  "kernelspec": {
   "display_name": "Python 3",
   "language": "python",
   "name": "python3"
  },
  "language_info": {
   "codemirror_mode": {
    "name": "ipython",
    "version": 3
   },
   "file_extension": ".py",
   "mimetype": "text/x-python",
   "name": "python",
   "nbconvert_exporter": "python",
   "pygments_lexer": "ipython3",
   "version": "3.7.6"
  }
 },
 "nbformat": 4,
 "nbformat_minor": 2
}
