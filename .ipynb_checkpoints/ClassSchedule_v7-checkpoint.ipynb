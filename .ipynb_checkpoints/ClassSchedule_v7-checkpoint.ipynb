{
 "cells": [
  {
   "cell_type": "code",
   "execution_count": null,
   "metadata": {},
   "outputs": [],
   "source": [
    "import os\n",
    "import numpy as np\n",
    "import pandas as pd\n",
    "import pymzn\n",
    "import time"
   ]
  },
  {
   "cell_type": "code",
   "execution_count": null,
   "metadata": {},
   "outputs": [],
   "source": [
    "rooms = 8\n",
    "slots = 6\n",
    "days = 5"
   ]
  },
  {
   "cell_type": "markdown",
   "metadata": {},
   "source": [
    "### Import Files"
   ]
  },
  {
   "cell_type": "code",
   "execution_count": null,
   "metadata": {},
   "outputs": [],
   "source": [
    "data = pd.read_csv(\"classDetails2.csv\")\n",
    "data = data"
   ]
  },
  {
   "cell_type": "code",
   "execution_count": null,
   "metadata": {},
   "outputs": [],
   "source": [
    "classDetails2 = data.to_numpy(dtype=int).tolist()\n",
    "# print(classDetails)\n",
    "sections1 = max(data[\"Section1\"].to_numpy(dtype=int))\n",
    "sections2 = max(data[\"Section2\"].to_numpy(dtype=int))\n",
    "sections = max(sections1,sections2)\n",
    "teachers = max(data[\"Teacher\"].to_numpy(dtype=int))\n",
    "classes = int(len(data))\n",
    "print(teachers,sections,classes)"
   ]
  },
  {
   "cell_type": "markdown",
   "metadata": {},
   "source": [
    "### Initialize Rest"
   ]
  },
  {
   "cell_type": "code",
   "execution_count": null,
   "metadata": {},
   "outputs": [],
   "source": [
    "tBusy = np.zeros((teachers,5,6))\n",
    "for i in range(0,6):\n",
    "    tBusy[0,0,i] = 1\n",
    "    tBusy[0,1,i] = 1\n",
    "    tBusy[1,0,i] = 1\n",
    "# print(tBusy.astype(int))\n",
    "teacherBusy = tBusy.astype(int).tolist()"
   ]
  },
  {
   "cell_type": "markdown",
   "metadata": {},
   "source": [
    "### Minizinc Model 1"
   ]
  },
  {
   "cell_type": "markdown",
   "metadata": {},
   "source": [
    "#### Data Preparation"
   ]
  },
  {
   "cell_type": "code",
   "execution_count": null,
   "metadata": {},
   "outputs": [],
   "source": [
    "newDict = {}\n",
    "newDict[\"days\"] = days\n",
    "newDict[\"slots\"] = slots\n",
    "newDict[\"classes\"] = classes\n",
    "newDict[\"rooms\"] = rooms\n",
    "newDict[\"sections\"] = sections\n",
    "newDict[\"teachers\"] = teachers\n",
    "newDict[\"classDetails2\"] = classDetails2\n",
    "newDict[\"teacherBusy\"] = teacherBusy\n",
    "\n",
    "pymzn.dict2dzn(newDict)\n",
    "newDict"
   ]
  },
  {
   "cell_type": "code",
   "execution_count": null,
   "metadata": {},
   "outputs": [],
   "source": [
    "start = time.time()\n",
    "newData = pymzn.minizinc(mzn = \"master_v7.mzn\", data = newDict, solver = pymzn.chuffed)\n",
    "end = time.time()\n",
    "print(end-start)"
   ]
  },
  {
   "cell_type": "code",
   "execution_count": null,
   "metadata": {},
   "outputs": [],
   "source": [
    "# teacherRoutine = newData[0][\"teacherRoutine\"]\n",
    "# sectionRoutine = newData[0][\"sectionRoutine\"]\n",
    "# roomRoutine = newData[0][\"roomRoutine\"]\n",
    "if len(newData)>0:\n",
    "    teacherRoutine = newData[0][\"teacherRoutine\"]\n",
    "    sectionRoutine = newData[0][\"sectionRoutine\"]\n",
    "    roomRoutine = newData[0][\"roomRoutine\"]\n",
    "\n",
    "else:\n",
    "    print(newData)"
   ]
  },
  {
   "cell_type": "code",
   "execution_count": null,
   "metadata": {},
   "outputs": [],
   "source": [
    "teacherRoutine"
   ]
  },
  {
   "cell_type": "code",
   "execution_count": null,
   "metadata": {},
   "outputs": [],
   "source": [
    "sectionRoutine"
   ]
  },
  {
   "cell_type": "markdown",
   "metadata": {},
   "source": [
    "### Print Output"
   ]
  },
  {
   "cell_type": "code",
   "execution_count": null,
   "metadata": {
    "scrolled": false
   },
   "outputs": [],
   "source": [
    "roomRoutine = np.zeros((rooms,days,slots),dtype=int)\n",
    "for i in range(5):\n",
    "    for j in range(6):\n",
    "        myRoom = 0\n",
    "        for k in range(teachers):\n",
    "            if teacherRoutine[k][i][j] > 0:\n",
    "                try:\n",
    "                    roomRoutine[myRoom][i][j] = teacherRoutine[k][i][j]\n",
    "                    myRoom += 1\n",
    "                except:\n",
    "                    print(i,j)"
   ]
  },
  {
   "cell_type": "code",
   "execution_count": null,
   "metadata": {},
   "outputs": [],
   "source": [
    "roomRoutine"
   ]
  },
  {
   "cell_type": "code",
   "execution_count": null,
   "metadata": {},
   "outputs": [],
   "source": []
  },
  {
   "cell_type": "code",
   "execution_count": null,
   "metadata": {},
   "outputs": [],
   "source": []
  }
 ],
 "metadata": {
  "kernelspec": {
   "display_name": "Python 3",
   "language": "python",
   "name": "python3"
  },
  "language_info": {
   "codemirror_mode": {
    "name": "ipython",
    "version": 3
   },
   "file_extension": ".py",
   "mimetype": "text/x-python",
   "name": "python",
   "nbconvert_exporter": "python",
   "pygments_lexer": "ipython3",
   "version": "3.7.1"
  }
 },
 "nbformat": 4,
 "nbformat_minor": 2
}
