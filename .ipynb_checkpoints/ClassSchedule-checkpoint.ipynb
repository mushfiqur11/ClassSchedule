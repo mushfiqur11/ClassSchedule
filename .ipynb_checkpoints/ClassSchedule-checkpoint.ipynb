{
 "cells": [
  {
   "cell_type": "code",
   "execution_count": null,
   "metadata": {},
   "outputs": [],
   "source": [
    "!pip install iminizinc"
   ]
  },
  {
   "cell_type": "code",
   "execution_count": null,
   "metadata": {},
   "outputs": [],
   "source": [
    "import os\n",
    "import numpy as np\n",
    "import pandas as pd\n",
    "%load_ext iminizinc"
   ]
  },
  {
   "cell_type": "code",
   "execution_count": null,
   "metadata": {},
   "outputs": [],
   "source": [
    "classes = 6\n",
    "rooms = 1\n",
    "sections = 2\n",
    "teachers = 3"
   ]
  },
  {
   "cell_type": "markdown",
   "metadata": {},
   "source": [
    "### Randomly initialization"
   ]
  },
  {
   "cell_type": "code",
   "execution_count": null,
   "metadata": {},
   "outputs": [],
   "source": [
    "tList = np.random.randint(1,teachers+1,size=(classes))\n",
    "sList = np.random.randint(1,sections+1,size=(classes))\n",
    "hList = np.random.randint(3,4,size=(classes))\n",
    "\n",
    "tList[0] = 1\n",
    "j=0\n",
    "for i in range(0,classes):\n",
    "    if i%sections==0:\n",
    "#         print(\"i ran\",tList[i])\n",
    "        j=j+1\n",
    "        for s in range(0,sections):\n",
    "            tList[i+s] = j\n",
    "            sList[i+s] = s+1\n",
    "\n",
    "classDetails = np.array([tList, sList, hList])\n",
    "classDetails = classDetails.T\n",
    "# print(classDetails)\n",
    "# print(classDetails.shape[0])\n",
    "print(classDetails)\n",
    "classes = classDetails.shape[0]\n",
    "classDetails = classDetails.tolist()"
   ]
  },
  {
   "cell_type": "code",
   "execution_count": null,
   "metadata": {},
   "outputs": [],
   "source": [
    "tBusy = np.zeros((teachers,5,6))\n",
    "for i in range(0,6):\n",
    "    tBusy[0,0,i] = 1\n",
    "    tBusy[0,1,i] = 1\n",
    "    tBusy[1,0,i] = 1\n",
    "# print(tBusy.astype(int))\n",
    "teacherBusy = tBusy.astype(int).tolist()"
   ]
  },
  {
   "cell_type": "markdown",
   "metadata": {},
   "source": [
    "### Minizinc Model"
   ]
  },
  {
   "cell_type": "code",
   "execution_count": null,
   "metadata": {},
   "outputs": [],
   "source": [
    "%%minizinc -m bind\n",
    "\n",
    "include \"globals.mzn\";\n",
    "set of int: slotsPerDay = 1..6;\n",
    "set of int: daysPerWeek = 1..5;\n",
    "\n",
    "set of int: properties = 1..3; \n",
    "%property0 = teacher\n",
    "%property1 = section\n",
    "%property2 = hours per week\n",
    "\n",
    "int: classes;\n",
    "int: rooms;\n",
    "int: sections;\n",
    "int: teachers;\n",
    "\n",
    "set of int: sectionList = 1..sections;\n",
    "set of int: teacherList = 1..teachers;\n",
    "set of int: roomList = 1..rooms;\n",
    "set of int: classList = 1..classes;\n",
    "set of int: classIndex = 0..classes;\n",
    "\n",
    "array[classList,properties] of int: classDetails;\n",
    "\n",
    "array[teacherList,daysPerWeek,slotsPerDay] of var classIndex: teacherRoutine;\n",
    "array[teacherList,daysPerWeek,slotsPerDay] of 0..1: teacherBusy;\n",
    "array[sectionList,daysPerWeek,slotsPerDay] of var classIndex: sectionRoutine;\n",
    "array[roomList,daysPerWeek,slotsPerDay] of var classIndex: roomRoutine;\n",
    "\n",
    "% a class will not be repeated in the same day\n",
    "constraint \n",
    "forall(i in classList, d in daysPerWeek)\n",
    "    (\n",
    "        count(teacherRoutine[classDetails[i,1],d,..],i)<=1\n",
    "    );\n",
    "\n",
    "% total hours of each course will be equal to the credit hour\n",
    "constraint \n",
    "forall(i in classList)\n",
    "    (\n",
    "        sum(d in daysPerWeek)(count(teacherRoutine[classDetails[i,1],d,..],i))==classDetails[i,3]\n",
    "    );\n",
    "\n",
    "% matching teacher's routine with students'\n",
    "constraint \n",
    "forall(i in classList,d in daysPerWeek, s in slotsPerDay)\n",
    "    (\n",
    "        if teacherRoutine[classDetails[i,1],d,s] == i \n",
    "        then sectionRoutine[classDetails[i,2],d,s] == i \n",
    "        else true \n",
    "        endif\n",
    "    );\n",
    "\n",
    "% considering teacher's availability\n",
    "constraint\n",
    "forall(t in teacherList, d in daysPerWeek, s in slotsPerDay)\n",
    "    (\n",
    "        if teacherBusy[t,d,s] == 1\n",
    "        then teacherRoutine[t,d,s] = 0\n",
    "        else true\n",
    "        endif\n",
    "    );\n",
    "\n",
    "\n",
    "solve satisfy;"
   ]
  },
  {
   "cell_type": "markdown",
   "metadata": {},
   "source": [
    "### Print Output"
   ]
  },
  {
   "cell_type": "code",
   "execution_count": null,
   "metadata": {
    "scrolled": false
   },
   "outputs": [],
   "source": [
    "print(np.array(sectionRoutine))"
   ]
  },
  {
   "cell_type": "code",
   "execution_count": null,
   "metadata": {},
   "outputs": [],
   "source": [
    "print(np.array(teacherRoutine))"
   ]
  },
  {
   "cell_type": "code",
   "execution_count": null,
   "metadata": {},
   "outputs": [],
   "source": [
    "# np.array(teacherRoutine).shape"
   ]
  },
  {
   "cell_type": "code",
   "execution_count": null,
   "metadata": {},
   "outputs": [],
   "source": []
  }
 ],
 "metadata": {
  "kernelspec": {
   "display_name": "Python 3",
   "language": "python",
   "name": "python3"
  },
  "language_info": {
   "codemirror_mode": {
    "name": "ipython",
    "version": 3
   },
   "file_extension": ".py",
   "mimetype": "text/x-python",
   "name": "python",
   "nbconvert_exporter": "python",
   "pygments_lexer": "ipython3",
   "version": "3.7.4"
  }
 },
 "nbformat": 4,
 "nbformat_minor": 2
}
