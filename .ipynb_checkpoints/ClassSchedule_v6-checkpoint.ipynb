{
 "cells": [
  {
   "cell_type": "code",
   "execution_count": 88,
   "metadata": {},
   "outputs": [],
   "source": [
    "import os\n",
    "import numpy as np\n",
    "import pandas as pd\n",
    "import pymzn\n",
    "import time"
   ]
  },
  {
   "cell_type": "code",
   "execution_count": 89,
   "metadata": {},
   "outputs": [],
   "source": [
    "classes = 8\n",
    "rooms = 2\n",
    "sections = 2\n",
    "teachers = 4\n",
    "slots = 6\n",
    "days = 5"
   ]
  },
  {
   "cell_type": "markdown",
   "metadata": {},
   "source": [
    "### Randomly initialization"
   ]
  },
  {
   "cell_type": "code",
   "execution_count": 90,
   "metadata": {},
   "outputs": [
    {
     "name": "stdout",
     "output_type": "stream",
     "text": [
      "[[1 1 3]\n",
      " [1 2 3]\n",
      " [2 1 3]\n",
      " [2 2 3]\n",
      " [3 1 3]\n",
      " [3 2 3]\n",
      " [4 1 3]\n",
      " [4 2 3]]\n"
     ]
    }
   ],
   "source": [
    "tList = np.random.randint(1,teachers+1,size=(classes))\n",
    "sList = np.random.randint(1,sections+1,size=(classes))\n",
    "hList = np.random.randint(3,4,size=(classes))\n",
    "\n",
    "tList[0] = 1\n",
    "j=0\n",
    "for i in range(0,classes):\n",
    "    if i%sections==0:\n",
    "#         print(\"i ran\",tList[i])\n",
    "        j=j+1\n",
    "        for s in range(0,sections):\n",
    "            tList[i+s] = j\n",
    "            sList[i+s] = s+1\n",
    "\n",
    "classDetails = np.array([tList, sList, hList])\n",
    "classDetails = classDetails.T\n",
    "classDetails2 = classDetails\n",
    "# print(classDetails)\n",
    "# print(classDetails.shape[0])\n",
    "print(classDetails)\n",
    "classes = classDetails.shape[0]\n",
    "classDetails = classDetails.tolist()\n",
    "classDetails2 = classDetails[:]"
   ]
  },
  {
   "cell_type": "code",
   "execution_count": 91,
   "metadata": {},
   "outputs": [],
   "source": [
    "# for item in classDetails2:\n",
    "#     classDetails.append([item[0]+6,item[1]+2,item[2]])\n",
    "# classDetails"
   ]
  },
  {
   "cell_type": "code",
   "execution_count": 92,
   "metadata": {},
   "outputs": [],
   "source": [
    "tBusy = np.zeros((teachers,5,6))\n",
    "for i in range(0,6):\n",
    "    tBusy[0,0,i] = 1\n",
    "    tBusy[0,1,i] = 1\n",
    "    tBusy[1,0,i] = 1\n",
    "# print(tBusy.astype(int))\n",
    "teacherBusy = tBusy.astype(int).tolist()"
   ]
  },
  {
   "cell_type": "markdown",
   "metadata": {},
   "source": [
    "### Minizinc Model 1"
   ]
  },
  {
   "cell_type": "markdown",
   "metadata": {},
   "source": [
    "#### Data Preparation"
   ]
  },
  {
   "cell_type": "code",
   "execution_count": 93,
   "metadata": {},
   "outputs": [
    {
     "data": {
      "text/plain": [
       "{'days': 5,\n",
       " 'slots': 6,\n",
       " 'classes': 8,\n",
       " 'rooms': 2,\n",
       " 'sections': 2,\n",
       " 'teachers': 4,\n",
       " 'classDetails': [[1, 1, 3],\n",
       "  [1, 2, 3],\n",
       "  [2, 1, 3],\n",
       "  [2, 2, 3],\n",
       "  [3, 1, 3],\n",
       "  [3, 2, 3],\n",
       "  [4, 1, 3],\n",
       "  [4, 2, 3]],\n",
       " 'teacherBusy': [[[1, 1, 1, 1, 1, 1],\n",
       "   [1, 1, 1, 1, 1, 1],\n",
       "   [0, 0, 0, 0, 0, 0],\n",
       "   [0, 0, 0, 0, 0, 0],\n",
       "   [0, 0, 0, 0, 0, 0]],\n",
       "  [[1, 1, 1, 1, 1, 1],\n",
       "   [0, 0, 0, 0, 0, 0],\n",
       "   [0, 0, 0, 0, 0, 0],\n",
       "   [0, 0, 0, 0, 0, 0],\n",
       "   [0, 0, 0, 0, 0, 0]],\n",
       "  [[0, 0, 0, 0, 0, 0],\n",
       "   [0, 0, 0, 0, 0, 0],\n",
       "   [0, 0, 0, 0, 0, 0],\n",
       "   [0, 0, 0, 0, 0, 0],\n",
       "   [0, 0, 0, 0, 0, 0]],\n",
       "  [[0, 0, 0, 0, 0, 0],\n",
       "   [0, 0, 0, 0, 0, 0],\n",
       "   [0, 0, 0, 0, 0, 0],\n",
       "   [0, 0, 0, 0, 0, 0],\n",
       "   [0, 0, 0, 0, 0, 0]]]}"
      ]
     },
     "execution_count": 93,
     "metadata": {},
     "output_type": "execute_result"
    }
   ],
   "source": [
    "newDict = {}\n",
    "newDict[\"days\"] = days\n",
    "newDict[\"slots\"] = slots\n",
    "newDict[\"classes\"] = classes\n",
    "newDict[\"rooms\"] = rooms\n",
    "newDict[\"sections\"] = sections\n",
    "newDict[\"teachers\"] = teachers\n",
    "newDict[\"classDetails\"] = classDetails\n",
    "newDict[\"teacherBusy\"] = teacherBusy\n",
    "\n",
    "pymzn.dict2dzn(newDict)\n",
    "newDict"
   ]
  },
  {
   "cell_type": "code",
   "execution_count": 94,
   "metadata": {},
   "outputs": [
    {
     "name": "stdout",
     "output_type": "stream",
     "text": [
      "1.515611171722412\n"
     ]
    }
   ],
   "source": [
    "start = time.time()\n",
    "newData = pymzn.minizinc(mzn = \"master.mzn\", data = newDict, solver = pymzn.chuffed)\n",
    "end = time.time()\n",
    "print(end-start)"
   ]
  },
  {
   "cell_type": "code",
   "execution_count": 95,
   "metadata": {},
   "outputs": [],
   "source": [
    "# teacherRoutine = newData[0][\"teacherRoutine\"]\n",
    "# sectionRoutine = newData[0][\"sectionRoutine\"]\n",
    "# roomRoutine = newData[0][\"roomRoutine\"]\n",
    "if len(newData)>0:\n",
    "    teacherRoutine = newData[0][\"teacherRoutine\"]\n",
    "    sectionRoutine = newData[0][\"sectionRoutine\"]\n",
    "    roomRoutine = newData[0][\"roomRoutine\"]\n",
    "\n",
    "else:\n",
    "    print(newData)"
   ]
  },
  {
   "cell_type": "markdown",
   "metadata": {},
   "source": [
    "### Minizinc Model 2"
   ]
  },
  {
   "cell_type": "markdown",
   "metadata": {},
   "source": [
    "#### Data Preparation"
   ]
  },
  {
   "cell_type": "code",
   "execution_count": 96,
   "metadata": {},
   "outputs": [
    {
     "data": {
      "text/plain": [
       "{'days': 5,\n",
       " 'slots': 6,\n",
       " 'classes': 8,\n",
       " 'rooms': 2,\n",
       " 'teachers': 4,\n",
       " 'teacherRoutine': [[[0, 0, 0, 0, 0, 0],\n",
       "   [0, 0, 0, 0, 0, 0],\n",
       "   [0, 0, 1, 0, 2, 0],\n",
       "   [0, 0, 1, 2, 0, 0],\n",
       "   [0, 2, 0, 0, 1, 0]],\n",
       "  [[0, 0, 0, 0, 0, 0],\n",
       "   [0, 0, 0, 3, 0, 4],\n",
       "   [4, 0, 0, 0, 0, 0],\n",
       "   [0, 4, 0, 0, 3, 0],\n",
       "   [0, 0, 0, 3, 0, 0]],\n",
       "  [[6, 0, 0, 0, 0, 0],\n",
       "   [0, 0, 0, 0, 0, 5],\n",
       "   [0, 0, 0, 6, 0, 5],\n",
       "   [0, 0, 0, 0, 0, 0],\n",
       "   [0, 0, 5, 0, 0, 6]],\n",
       "  [[7, 8, 0, 0, 0, 0],\n",
       "   [0, 0, 0, 0, 0, 0],\n",
       "   [0, 0, 0, 0, 7, 8],\n",
       "   [0, 0, 0, 0, 0, 0],\n",
       "   [0, 0, 0, 8, 0, 7]]],\n",
       " 'classDetails': [[1, 1, 3],\n",
       "  [1, 2, 3],\n",
       "  [2, 1, 3],\n",
       "  [2, 2, 3],\n",
       "  [3, 1, 3],\n",
       "  [3, 2, 3],\n",
       "  [4, 1, 3],\n",
       "  [4, 2, 3]]}"
      ]
     },
     "execution_count": 96,
     "metadata": {},
     "output_type": "execute_result"
    }
   ],
   "source": [
    "newDict2 = {}\n",
    "newDict2[\"days\"] = days\n",
    "newDict2[\"slots\"] = slots\n",
    "newDict2[\"classes\"] = classes\n",
    "newDict2[\"rooms\"] = rooms\n",
    "newDict2[\"teachers\"] = teachers\n",
    "newDict2[\"teacherRoutine\"] = teacherRoutine\n",
    "newDict2[\"classDetails\"] = classDetails\n",
    "\n",
    "pymzn.dict2dzn(newDict2)\n",
    "newDict2"
   ]
  },
  {
   "cell_type": "code",
   "execution_count": 97,
   "metadata": {},
   "outputs": [
    {
     "name": "stdout",
     "output_type": "stream",
     "text": [
      "0.9934463500976562\n"
     ]
    }
   ],
   "source": [
    "start = time.time()\n",
    "newData2 = pymzn.minizinc(mzn = \"roomAssign.mzn\", data = newDict2, solver = pymzn.gecode)\n",
    "end = time.time()\n",
    "print(end-start)"
   ]
  },
  {
   "cell_type": "code",
   "execution_count": 98,
   "metadata": {},
   "outputs": [
    {
     "data": {
      "text/plain": [
       "<Solutions: [{'roomRoutine': [[[7, 8, 0, 0, 0, 0], [0, 0, 0, 3, 0, 5], [4, 0, 1, 6, 7, 8], [0, 4, 1, 2, 3, 0], [0, 2, 5, 8, 1, 7]], [[6, 0, 0, 0, 0, 0], [0, 0, 0, 0, 0, 4], [0, 0, 0, 0, 2, 5], [0, 0, 0, 0, 0, 0], [0, 0, 0, 3, 0, 6]]], 'assignedSlots': [[15, 21, 29], [47, 22, 26], [10, 23, 58], [42, 13, 20], [12, 48, 27], [31, 16, 60], [1, 17, 30], [2, 18, 28]]}]>"
      ]
     },
     "execution_count": 98,
     "metadata": {},
     "output_type": "execute_result"
    }
   ],
   "source": [
    "newData2"
   ]
  },
  {
   "cell_type": "code",
   "execution_count": 99,
   "metadata": {},
   "outputs": [],
   "source": [
    "if len(newData2)>0:\n",
    "    assignedSlots = newData2[0][\"assignedSlots\"]\n",
    "    roomRoutine = newData2[0][\"roomRoutine\"]\n",
    "\n",
    "else:\n",
    "    print(newData2)\n"
   ]
  },
  {
   "cell_type": "markdown",
   "metadata": {},
   "source": [
    "### Print Output"
   ]
  },
  {
   "cell_type": "code",
   "execution_count": 100,
   "metadata": {},
   "outputs": [
    {
     "data": {
      "text/plain": [
       "[[[0, 0, 0, 0, 0, 0],\n",
       "  [0, 0, 0, 0, 0, 0],\n",
       "  [0, 0, 1, 0, 2, 0],\n",
       "  [0, 0, 1, 2, 0, 0],\n",
       "  [0, 2, 0, 0, 1, 0]],\n",
       " [[0, 0, 0, 0, 0, 0],\n",
       "  [0, 0, 0, 3, 0, 4],\n",
       "  [4, 0, 0, 0, 0, 0],\n",
       "  [0, 4, 0, 0, 3, 0],\n",
       "  [0, 0, 0, 3, 0, 0]],\n",
       " [[6, 0, 0, 0, 0, 0],\n",
       "  [0, 0, 0, 0, 0, 5],\n",
       "  [0, 0, 0, 6, 0, 5],\n",
       "  [0, 0, 0, 0, 0, 0],\n",
       "  [0, 0, 5, 0, 0, 6]],\n",
       " [[7, 8, 0, 0, 0, 0],\n",
       "  [0, 0, 0, 0, 0, 0],\n",
       "  [0, 0, 0, 0, 7, 8],\n",
       "  [0, 0, 0, 0, 0, 0],\n",
       "  [0, 0, 0, 8, 0, 7]]]"
      ]
     },
     "execution_count": 100,
     "metadata": {},
     "output_type": "execute_result"
    }
   ],
   "source": [
    "teacherRoutine"
   ]
  },
  {
   "cell_type": "code",
   "execution_count": 101,
   "metadata": {
    "scrolled": false
   },
   "outputs": [
    {
     "name": "stdout",
     "output_type": "stream",
     "text": [
      "7   6\n",
      "0   8\n",
      "0   0\n",
      "0   0\n",
      "0   0\n",
      "0   0\n",
      "0   0\n",
      "0   0\n",
      "0   0\n",
      "3   0\n",
      "0   0\n",
      "5   4\n",
      "0   4\n",
      "0   0\n",
      "1   0\n",
      "0   6\n",
      "7   2\n",
      "5   8\n",
      "0   0\n",
      "0   4\n",
      "1   0\n",
      "0   2\n",
      "3   0\n",
      "0   0\n",
      "0   0\n",
      "0   2\n",
      "5   0\n",
      "3   8\n",
      "1   0\n",
      "7   6\n"
     ]
    }
   ],
   "source": [
    "for i in range(5):\n",
    "    for j in range(6):\n",
    "        print(sectionRoutine[0][i][j],' ',sectionRoutine[1][i][j])"
   ]
  },
  {
   "cell_type": "code",
   "execution_count": 102,
   "metadata": {},
   "outputs": [
    {
     "data": {
      "text/plain": [
       "[[[7, 8, 0, 0, 0, 0],\n",
       "  [0, 0, 0, 3, 0, 5],\n",
       "  [4, 0, 1, 6, 7, 8],\n",
       "  [0, 4, 1, 2, 3, 0],\n",
       "  [0, 2, 5, 8, 1, 7]],\n",
       " [[6, 0, 0, 0, 0, 0],\n",
       "  [0, 0, 0, 0, 0, 4],\n",
       "  [0, 0, 0, 0, 2, 5],\n",
       "  [0, 0, 0, 0, 0, 0],\n",
       "  [0, 0, 0, 3, 0, 6]]]"
      ]
     },
     "execution_count": 102,
     "metadata": {},
     "output_type": "execute_result"
    }
   ],
   "source": [
    "roomRoutine"
   ]
  },
  {
   "cell_type": "code",
   "execution_count": 103,
   "metadata": {},
   "outputs": [
    {
     "data": {
      "text/plain": [
       "[[15, 21, 29],\n",
       " [47, 22, 26],\n",
       " [10, 23, 58],\n",
       " [42, 13, 20],\n",
       " [12, 48, 27],\n",
       " [31, 16, 60],\n",
       " [1, 17, 30],\n",
       " [2, 18, 28]]"
      ]
     },
     "execution_count": 103,
     "metadata": {},
     "output_type": "execute_result"
    }
   ],
   "source": [
    "assignedSlots"
   ]
  },
  {
   "cell_type": "code",
   "execution_count": null,
   "metadata": {},
   "outputs": [],
   "source": []
  }
 ],
 "metadata": {
  "kernelspec": {
   "display_name": "Python 3",
   "language": "python",
   "name": "python3"
  },
  "language_info": {
   "codemirror_mode": {
    "name": "ipython",
    "version": 3
   },
   "file_extension": ".py",
   "mimetype": "text/x-python",
   "name": "python",
   "nbconvert_exporter": "python",
   "pygments_lexer": "ipython3",
   "version": "3.7.1"
  }
 },
 "nbformat": 4,
 "nbformat_minor": 2
}
