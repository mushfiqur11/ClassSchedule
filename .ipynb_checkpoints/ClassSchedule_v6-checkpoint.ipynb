{
 "cells": [
  {
   "cell_type": "code",
   "execution_count": 2,
   "metadata": {},
   "outputs": [],
   "source": [
    "import os\n",
    "import numpy as np\n",
    "import pandas as pd\n",
    "import pymzn\n",
    "import time"
   ]
  },
  {
   "cell_type": "code",
   "execution_count": 46,
   "metadata": {},
   "outputs": [],
   "source": [
    "classes = 24\n",
    "rooms = 4\n",
    "sections = 4\n",
    "teachers = 12"
   ]
  },
  {
   "cell_type": "markdown",
   "metadata": {},
   "source": [
    "### Randomly initialization"
   ]
  },
  {
   "cell_type": "code",
   "execution_count": 23,
   "metadata": {},
   "outputs": [
    {
     "name": "stdout",
     "output_type": "stream",
     "text": [
      "[[1 1 3]\n",
      " [1 2 3]\n",
      " [2 1 3]\n",
      " [2 2 3]\n",
      " [3 1 3]\n",
      " [3 2 3]\n",
      " [4 1 3]\n",
      " [4 2 3]\n",
      " [5 1 3]\n",
      " [5 2 3]\n",
      " [6 1 3]\n",
      " [6 2 3]]\n"
     ]
    }
   ],
   "source": [
    "tList = np.random.randint(1,teachers+1,size=(classes))\n",
    "sList = np.random.randint(1,sections+1,size=(classes))\n",
    "hList = np.random.randint(3,4,size=(classes))\n",
    "\n",
    "tList[0] = 1\n",
    "j=0\n",
    "for i in range(0,classes):\n",
    "    if i%sections==0:\n",
    "#         print(\"i ran\",tList[i])\n",
    "        j=j+1\n",
    "        for s in range(0,sections):\n",
    "            tList[i+s] = j\n",
    "            sList[i+s] = s+1\n",
    "\n",
    "classDetails = np.array([tList, sList, hList])\n",
    "classDetails = classDetails.T\n",
    "classDetails2 = classDetails\n",
    "# print(classDetails)\n",
    "# print(classDetails.shape[0])\n",
    "print(classDetails)\n",
    "classes = classDetails.shape[0]\n",
    "classDetails = classDetails.tolist()\n",
    "classDetails2 = classDetails[:]"
   ]
  },
  {
   "cell_type": "code",
   "execution_count": 24,
   "metadata": {},
   "outputs": [
    {
     "data": {
      "text/plain": [
       "[[1, 1, 3],\n",
       " [1, 2, 3],\n",
       " [2, 1, 3],\n",
       " [2, 2, 3],\n",
       " [3, 1, 3],\n",
       " [3, 2, 3],\n",
       " [4, 1, 3],\n",
       " [4, 2, 3],\n",
       " [5, 1, 3],\n",
       " [5, 2, 3],\n",
       " [6, 1, 3],\n",
       " [6, 2, 3],\n",
       " [7, 3, 3],\n",
       " [7, 4, 3],\n",
       " [8, 3, 3],\n",
       " [8, 4, 3],\n",
       " [9, 3, 3],\n",
       " [9, 4, 3],\n",
       " [10, 3, 3],\n",
       " [10, 4, 3],\n",
       " [11, 3, 3],\n",
       " [11, 4, 3],\n",
       " [12, 3, 3],\n",
       " [12, 4, 3]]"
      ]
     },
     "execution_count": 24,
     "metadata": {},
     "output_type": "execute_result"
    }
   ],
   "source": [
    "for item in classDetails2:\n",
    "    classDetails.append([item[0]+6,item[1]+2,item[2]])\n",
    "classDetails"
   ]
  },
  {
   "cell_type": "code",
   "execution_count": 26,
   "metadata": {},
   "outputs": [],
   "source": [
    "tBusy = np.zeros((teachers,5,6))\n",
    "for i in range(0,6):\n",
    "    tBusy[0,0,i] = 1\n",
    "    tBusy[0,1,i] = 1\n",
    "    tBusy[1,0,i] = 1\n",
    "# print(tBusy.astype(int))\n",
    "teacherBusy = tBusy.astype(int).tolist()"
   ]
  },
  {
   "cell_type": "code",
   "execution_count": 47,
   "metadata": {},
   "outputs": [
    {
     "data": {
      "text/plain": [
       "{'classes': 24,\n",
       " 'rooms': 4,\n",
       " 'sections': 4,\n",
       " 'teachers': 12,\n",
       " 'classDetails': [[1, 1, 3],\n",
       "  [1, 2, 3],\n",
       "  [2, 1, 3],\n",
       "  [2, 2, 3],\n",
       "  [3, 1, 3],\n",
       "  [3, 2, 3],\n",
       "  [4, 1, 3],\n",
       "  [4, 2, 3],\n",
       "  [5, 1, 3],\n",
       "  [5, 2, 3],\n",
       "  [6, 1, 3],\n",
       "  [6, 2, 3],\n",
       "  [7, 3, 3],\n",
       "  [7, 4, 3],\n",
       "  [8, 3, 3],\n",
       "  [8, 4, 3],\n",
       "  [9, 3, 3],\n",
       "  [9, 4, 3],\n",
       "  [10, 3, 3],\n",
       "  [10, 4, 3],\n",
       "  [11, 3, 3],\n",
       "  [11, 4, 3],\n",
       "  [12, 3, 3],\n",
       "  [12, 4, 3]],\n",
       " 'teacherBusy': [[[1, 1, 1, 1, 1, 1],\n",
       "   [1, 1, 1, 1, 1, 1],\n",
       "   [0, 0, 0, 0, 0, 0],\n",
       "   [0, 0, 0, 0, 0, 0],\n",
       "   [0, 0, 0, 0, 0, 0]],\n",
       "  [[1, 1, 1, 1, 1, 1],\n",
       "   [0, 0, 0, 0, 0, 0],\n",
       "   [0, 0, 0, 0, 0, 0],\n",
       "   [0, 0, 0, 0, 0, 0],\n",
       "   [0, 0, 0, 0, 0, 0]],\n",
       "  [[0, 0, 0, 0, 0, 0],\n",
       "   [0, 0, 0, 0, 0, 0],\n",
       "   [0, 0, 0, 0, 0, 0],\n",
       "   [0, 0, 0, 0, 0, 0],\n",
       "   [0, 0, 0, 0, 0, 0]],\n",
       "  [[0, 0, 0, 0, 0, 0],\n",
       "   [0, 0, 0, 0, 0, 0],\n",
       "   [0, 0, 0, 0, 0, 0],\n",
       "   [0, 0, 0, 0, 0, 0],\n",
       "   [0, 0, 0, 0, 0, 0]],\n",
       "  [[0, 0, 0, 0, 0, 0],\n",
       "   [0, 0, 0, 0, 0, 0],\n",
       "   [0, 0, 0, 0, 0, 0],\n",
       "   [0, 0, 0, 0, 0, 0],\n",
       "   [0, 0, 0, 0, 0, 0]],\n",
       "  [[0, 0, 0, 0, 0, 0],\n",
       "   [0, 0, 0, 0, 0, 0],\n",
       "   [0, 0, 0, 0, 0, 0],\n",
       "   [0, 0, 0, 0, 0, 0],\n",
       "   [0, 0, 0, 0, 0, 0]],\n",
       "  [[0, 0, 0, 0, 0, 0],\n",
       "   [0, 0, 0, 0, 0, 0],\n",
       "   [0, 0, 0, 0, 0, 0],\n",
       "   [0, 0, 0, 0, 0, 0],\n",
       "   [0, 0, 0, 0, 0, 0]],\n",
       "  [[0, 0, 0, 0, 0, 0],\n",
       "   [0, 0, 0, 0, 0, 0],\n",
       "   [0, 0, 0, 0, 0, 0],\n",
       "   [0, 0, 0, 0, 0, 0],\n",
       "   [0, 0, 0, 0, 0, 0]],\n",
       "  [[0, 0, 0, 0, 0, 0],\n",
       "   [0, 0, 0, 0, 0, 0],\n",
       "   [0, 0, 0, 0, 0, 0],\n",
       "   [0, 0, 0, 0, 0, 0],\n",
       "   [0, 0, 0, 0, 0, 0]],\n",
       "  [[0, 0, 0, 0, 0, 0],\n",
       "   [0, 0, 0, 0, 0, 0],\n",
       "   [0, 0, 0, 0, 0, 0],\n",
       "   [0, 0, 0, 0, 0, 0],\n",
       "   [0, 0, 0, 0, 0, 0]],\n",
       "  [[0, 0, 0, 0, 0, 0],\n",
       "   [0, 0, 0, 0, 0, 0],\n",
       "   [0, 0, 0, 0, 0, 0],\n",
       "   [0, 0, 0, 0, 0, 0],\n",
       "   [0, 0, 0, 0, 0, 0]],\n",
       "  [[0, 0, 0, 0, 0, 0],\n",
       "   [0, 0, 0, 0, 0, 0],\n",
       "   [0, 0, 0, 0, 0, 0],\n",
       "   [0, 0, 0, 0, 0, 0],\n",
       "   [0, 0, 0, 0, 0, 0]]]}"
      ]
     },
     "execution_count": 47,
     "metadata": {},
     "output_type": "execute_result"
    }
   ],
   "source": [
    "newDict = {}\n",
    "newDict[\"classes\"] = classes\n",
    "newDict[\"rooms\"] = rooms\n",
    "newDict[\"sections\"] = sections\n",
    "newDict[\"teachers\"] = teachers\n",
    "newDict[\"classDetails\"] = classDetails\n",
    "newDict[\"teacherBusy\"] = teacherBusy\n",
    "\n",
    "pymzn.dict2dzn(newDict)\n",
    "newDict"
   ]
  },
  {
   "cell_type": "markdown",
   "metadata": {},
   "source": [
    "### Minizinc Model"
   ]
  },
  {
   "cell_type": "code",
   "execution_count": 48,
   "metadata": {},
   "outputs": [
    {
     "name": "stdout",
     "output_type": "stream",
     "text": [
      "1.4357593059539795\n"
     ]
    }
   ],
   "source": [
    "start = time.time()\n",
    "newData = pymzn.minizinc(mzn = \"master.mzn\", data = newDict, solver = pymzn.chuffed)\n",
    "end = time.time()\n",
    "print(end-start)"
   ]
  },
  {
   "cell_type": "code",
   "execution_count": 49,
   "metadata": {},
   "outputs": [],
   "source": [
    "# teacherRoutine = newData[0][\"teacherRoutine\"]\n",
    "# sectionRoutine = newData[0][\"sectionRoutine\"]\n",
    "# roomRoutine = newData[0][\"roomRoutine\"]\n",
    "if len(newData)>0:\n",
    "    teacherRoutine = newData[0][\"teacherRoutine\"]\n",
    "    sectionRoutine = newData[0][\"sectionRoutine\"]\n",
    "    roomRoutine = newData[0][\"roomRoutine\"]\n",
    "else:\n",
    "    print(\"error\")"
   ]
  },
  {
   "cell_type": "markdown",
   "metadata": {},
   "source": [
    "### Print Output"
   ]
  },
  {
   "cell_type": "code",
   "execution_count": 50,
   "metadata": {},
   "outputs": [
    {
     "data": {
      "text/plain": [
       "[[[0, 0, 0, 0, 0, 0],\n",
       "  [0, 0, 0, 0, 0, 0],\n",
       "  [2, 24, 9, 12, 6, 1],\n",
       "  [24, 18, 1, 2, 24, 24],\n",
       "  [24, 1, 24, 24, 24, 2]],\n",
       " [[0, 0, 0, 0, 0, 0],\n",
       "  [24, 23, 3, 24, 4, 11],\n",
       "  [24, 24, 24, 24, 24, 4],\n",
       "  [24, 0, 24, 3, 19, 21],\n",
       "  [24, 24, 20, 4, 2, 3]],\n",
       " [[24, 17, 21, 6, 5, 24],\n",
       "  [24, 3, 24, 9, 24, 17],\n",
       "  [24, 19, 15, 6, 16, 3],\n",
       "  [24, 12, 24, 24, 5, 20],\n",
       "  [20, 24, 5, 24, 6, 24]],\n",
       " [[24, 24, 14, 24, 8, 24],\n",
       "  [7, 21, 23, 24, 24, 24],\n",
       "  [24, 22, 8, 24, 24, 24],\n",
       "  [24, 7, 23, 24, 24, 1],\n",
       "  [8, 14, 13, 7, 24, 18]],\n",
       " [[24, 9, 0, 24, 24, 24],\n",
       "  [24, 24, 24, 9, 24, 3],\n",
       "  [7, 24, 7, 24, 10, 7],\n",
       "  [23, 13, 10, 7, 2, 9],\n",
       "  [16, 18, 10, 22, 16, 14]],\n",
       " [[24, 14, 20, 1, 13, 11],\n",
       "  [17, 12, 24, 24, 24, 24],\n",
       "  [24, 12, 24, 24, 11, 24],\n",
       "  [11, 24, 24, 24, 24, 12],\n",
       "  [24, 24, 24, 24, 24, 0]],\n",
       " [[24, 24, 24, 14, 24, 24],\n",
       "  [14, 24, 8, 24, 24, 24],\n",
       "  [24, 24, 24, 13, 14, 24],\n",
       "  [18, 24, 20, 24, 13, 16],\n",
       "  [13, 24, 24, 24, 24, 24]],\n",
       " [[20, 16, 24, 22, 15, 22],\n",
       "  [23, 24, 18, 24, 24, 15],\n",
       "  [24, 24, 22, 22, 0, 24],\n",
       "  [23, 23, 15, 24, 24, 16],\n",
       "  [11, 8, 9, 16, 9, 24]],\n",
       " [[17, 23, 24, 24, 18, 24],\n",
       "  [24, 24, 24, 17, 24, 18],\n",
       "  [24, 24, 22, 22, 24, 24],\n",
       "  [17, 4, 24, 10, 18, 24],\n",
       "  [24, 12, 24, 7, 21, 24]],\n",
       " [[24, 24, 19, 18, 24, 20],\n",
       "  [13, 24, 19, 11, 20, 24],\n",
       "  [19, 24, 23, 12, 21, 20],\n",
       "  [24, 21, 22, 24, 24, 24],\n",
       "  [22, 24, 21, 24, 23, 23]],\n",
       " [[23, 21, 23, 24, 23, 24],\n",
       "  [24, 24, 22, 24, 21, 24],\n",
       "  [22, 24, 24, 24, 24, 24],\n",
       "  [24, 24, 24, 22, 24, 21],\n",
       "  [24, 24, 24, 24, 24, 24]],\n",
       " [[22, 22, 24, 22, 22, 23],\n",
       "  [22, 22, 22, 24, 22, 22],\n",
       "  [22, 22, 22, 24, 22, 22],\n",
       "  [22, 22, 22, 23, 22, 22],\n",
       "  [22, 23, 22, 22, 22, 22]]]"
      ]
     },
     "execution_count": 50,
     "metadata": {},
     "output_type": "execute_result"
    }
   ],
   "source": [
    "teacherRoutine"
   ]
  },
  {
   "cell_type": "code",
   "execution_count": 51,
   "metadata": {
    "scrolled": false
   },
   "outputs": [
    {
     "name": "stdout",
     "output_type": "stream",
     "text": [
      "[[[24  9 24 24  5 11]\n",
      "  [ 7 24  3  9 24 23]\n",
      "  [24 24 24 24 11  1]\n",
      "  [11  7  1  3  5  9]\n",
      "  [24  1  5  7 23  3]]\n",
      "\n",
      " [[24 24  8  6  8 24]\n",
      "  [24 12 24 24  4 24]\n",
      "  [ 2 12  8  6 10  4]\n",
      "  [24 24 10  2 24 12]\n",
      "  [ 8 24 10  4  6  2]]\n",
      "\n",
      " [[17 21 19 20 15 23]\n",
      "  [24 24 19 17 21 15]\n",
      "  [19 24 21 13 16 20]\n",
      "  [17 24 15 23 13 21]\n",
      "  [13 23 24 24 23 23]]\n",
      "\n",
      " [[24 16 24 14 18 20]\n",
      "  [14 24 22 24 20 18]\n",
      "  [22 24 22 24 14 20]\n",
      "  [24 24 21 22 18 16]\n",
      "  [24 24 24 16 24 24]]]\n"
     ]
    }
   ],
   "source": [
    "print(np.array(sectionRoutine))"
   ]
  },
  {
   "cell_type": "code",
   "execution_count": 52,
   "metadata": {},
   "outputs": [
    {
     "name": "stdout",
     "output_type": "stream",
     "text": [
      "[[[ 0  0  0  0  0  0]\n",
      "  [ 0  0  0  0  0  0]\n",
      "  [ 2 24  9 12  6  1]\n",
      "  [24 18  1  2 24 24]\n",
      "  [24  1 24 24 24  2]]\n",
      "\n",
      " [[ 0  0  0  0  0  0]\n",
      "  [24 23  3 24  4 11]\n",
      "  [24 24 24 24 24  4]\n",
      "  [24  0 24  3 19 21]\n",
      "  [24 24 20  4  2  3]]\n",
      "\n",
      " [[24 17 21  6  5 24]\n",
      "  [24  3 24  9 24 17]\n",
      "  [24 19 15  6 16  3]\n",
      "  [24 12 24 24  5 20]\n",
      "  [20 24  5 24  6 24]]\n",
      "\n",
      " [[24 24 14 24  8 24]\n",
      "  [ 7 21 23 24 24 24]\n",
      "  [24 22  8 24 24 24]\n",
      "  [24  7 23 24 24  1]\n",
      "  [ 8 14 13  7 24 18]]\n",
      "\n",
      " [[24  9  0 24 24 24]\n",
      "  [24 24 24  9 24  3]\n",
      "  [ 7 24  7 24 10  7]\n",
      "  [23 13 10  7  2  9]\n",
      "  [16 18 10 22 16 14]]\n",
      "\n",
      " [[24 14 20  1 13 11]\n",
      "  [17 12 24 24 24 24]\n",
      "  [24 12 24 24 11 24]\n",
      "  [11 24 24 24 24 12]\n",
      "  [24 24 24 24 24  0]]\n",
      "\n",
      " [[24 24 24 14 24 24]\n",
      "  [14 24  8 24 24 24]\n",
      "  [24 24 24 13 14 24]\n",
      "  [18 24 20 24 13 16]\n",
      "  [13 24 24 24 24 24]]\n",
      "\n",
      " [[20 16 24 22 15 22]\n",
      "  [23 24 18 24 24 15]\n",
      "  [24 24 22 22  0 24]\n",
      "  [23 23 15 24 24 16]\n",
      "  [11  8  9 16  9 24]]\n",
      "\n",
      " [[17 23 24 24 18 24]\n",
      "  [24 24 24 17 24 18]\n",
      "  [24 24 22 22 24 24]\n",
      "  [17  4 24 10 18 24]\n",
      "  [24 12 24  7 21 24]]\n",
      "\n",
      " [[24 24 19 18 24 20]\n",
      "  [13 24 19 11 20 24]\n",
      "  [19 24 23 12 21 20]\n",
      "  [24 21 22 24 24 24]\n",
      "  [22 24 21 24 23 23]]\n",
      "\n",
      " [[23 21 23 24 23 24]\n",
      "  [24 24 22 24 21 24]\n",
      "  [22 24 24 24 24 24]\n",
      "  [24 24 24 22 24 21]\n",
      "  [24 24 24 24 24 24]]\n",
      "\n",
      " [[22 22 24 22 22 23]\n",
      "  [22 22 22 24 22 22]\n",
      "  [22 22 22 24 22 22]\n",
      "  [22 22 22 23 22 22]\n",
      "  [22 23 22 22 22 22]]]\n"
     ]
    }
   ],
   "source": [
    "print(np.array(teacherRoutine))"
   ]
  },
  {
   "cell_type": "code",
   "execution_count": null,
   "metadata": {},
   "outputs": [],
   "source": [
    "# np.array(teacherRoutine).shape"
   ]
  },
  {
   "cell_type": "code",
   "execution_count": null,
   "metadata": {},
   "outputs": [],
   "source": []
  }
 ],
 "metadata": {
  "kernelspec": {
   "display_name": "Python 3",
   "language": "python",
   "name": "python3"
  },
  "language_info": {
   "codemirror_mode": {
    "name": "ipython",
    "version": 3
   },
   "file_extension": ".py",
   "mimetype": "text/x-python",
   "name": "python",
   "nbconvert_exporter": "python",
   "pygments_lexer": "ipython3",
   "version": "3.7.1"
  }
 },
 "nbformat": 4,
 "nbformat_minor": 2
}
