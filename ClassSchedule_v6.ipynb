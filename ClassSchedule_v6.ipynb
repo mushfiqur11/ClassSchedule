{
 "cells": [
  {
   "cell_type": "code",
   "execution_count": 2,
   "metadata": {},
   "outputs": [],
   "source": [
    "import os\n",
    "import numpy as np\n",
    "import pandas as pd\n",
    "import pymzn\n",
    "import time"
   ]
  },
  {
   "cell_type": "code",
   "execution_count": 3,
   "metadata": {},
   "outputs": [],
   "source": [
    "rooms = 5\n",
    "slots = 6\n",
    "days = 5"
   ]
  },
  {
   "cell_type": "markdown",
   "metadata": {},
   "source": [
    "### Import Files"
   ]
  },
  {
   "cell_type": "code",
   "execution_count": 4,
   "metadata": {},
   "outputs": [],
   "source": [
    "data = pd.read_csv(\"classDetails.csv\")"
   ]
  },
  {
   "cell_type": "code",
   "execution_count": 6,
   "metadata": {},
   "outputs": [
    {
     "name": "stdout",
     "output_type": "stream",
     "text": [
      "16 4 32\n"
     ]
    }
   ],
   "source": [
    "classDetails = data.to_numpy(dtype=int).tolist()\n",
    "# print(classDetails)\n",
    "sections = max(data[\"Section\"].to_numpy(dtype=int))\n",
    "teachers = max(data[\"Teacher\"].to_numpy(dtype=int))\n",
    "classes = int(len(data))\n",
    "print(teachers,sections,classes)"
   ]
  },
  {
   "cell_type": "markdown",
   "metadata": {},
   "source": [
    "### Randomly initialization"
   ]
  },
  {
   "cell_type": "code",
   "execution_count": 7,
   "metadata": {},
   "outputs": [],
   "source": [
    "# sections = 2\n",
    "# teachers = 4\n",
    "# classes = 8"
   ]
  },
  {
   "cell_type": "code",
   "execution_count": 8,
   "metadata": {},
   "outputs": [],
   "source": [
    "# tList = np.random.randint(1,teachers+1,size=(classes))\n",
    "# sList = np.random.randint(1,sections+1,size=(classes))\n",
    "# hList = np.random.randint(3,4,size=(classes))\n",
    "\n",
    "# tList[0] = 1\n",
    "# j=0\n",
    "# for i in range(0,classes):\n",
    "#     if i%sections==0:\n",
    "# #         print(\"i ran\",tList[i])\n",
    "#         j=j+1\n",
    "#         for s in range(0,sections):\n",
    "#             tList[i+s] = j\n",
    "#             sList[i+s] = s+1\n",
    "\n",
    "# classDetails = np.array([tList, sList, hList])\n",
    "# classDetails = classDetails.T\n",
    "# classDetails2 = classDetails\n",
    "# # print(classDetails)\n",
    "# # print(classDetails.shape[0])\n",
    "# print(classDetails)\n",
    "# classes = classDetails.shape[0]\n",
    "# classDetails = classDetails.tolist()\n",
    "# classDetails2 = classDetails[:]"
   ]
  },
  {
   "cell_type": "code",
   "execution_count": 9,
   "metadata": {},
   "outputs": [],
   "source": [
    "# for item in classDetails2:\n",
    "#     classDetails.append([item[0]+6,item[1]+2,item[2]])\n",
    "# classDetails"
   ]
  },
  {
   "cell_type": "code",
   "execution_count": 10,
   "metadata": {},
   "outputs": [],
   "source": [
    "tBusy = np.zeros((teachers,5,6))\n",
    "for i in range(0,6):\n",
    "    tBusy[0,0,i] = 1\n",
    "    tBusy[0,1,i] = 1\n",
    "    tBusy[1,0,i] = 1\n",
    "# print(tBusy.astype(int))\n",
    "teacherBusy = tBusy.astype(int).tolist()"
   ]
  },
  {
   "cell_type": "markdown",
   "metadata": {},
   "source": [
    "### Minizinc Model 1"
   ]
  },
  {
   "cell_type": "markdown",
   "metadata": {},
   "source": [
    "#### Data Preparation"
   ]
  },
  {
   "cell_type": "code",
   "execution_count": 11,
   "metadata": {},
   "outputs": [
    {
     "data": {
      "text/plain": [
       "{'days': 5,\n",
       " 'slots': 6,\n",
       " 'classes': 32,\n",
       " 'rooms': 5,\n",
       " 'sections': 4,\n",
       " 'teachers': 16,\n",
       " 'classDetails': [[1, 1, 3],\n",
       "  [1, 2, 3],\n",
       "  [2, 1, 3],\n",
       "  [2, 2, 3],\n",
       "  [3, 1, 3],\n",
       "  [3, 2, 3],\n",
       "  [4, 1, 3],\n",
       "  [4, 2, 3],\n",
       "  [5, 1, 3],\n",
       "  [5, 2, 3],\n",
       "  [6, 1, 3],\n",
       "  [6, 2, 3],\n",
       "  [7, 1, 3],\n",
       "  [7, 2, 3],\n",
       "  [8, 1, 3],\n",
       "  [8, 2, 3],\n",
       "  [9, 3, 3],\n",
       "  [9, 4, 3],\n",
       "  [10, 3, 3],\n",
       "  [10, 4, 3],\n",
       "  [11, 3, 3],\n",
       "  [11, 4, 3],\n",
       "  [12, 3, 3],\n",
       "  [12, 4, 3],\n",
       "  [13, 3, 3],\n",
       "  [13, 4, 3],\n",
       "  [14, 3, 3],\n",
       "  [14, 4, 3],\n",
       "  [15, 3, 3],\n",
       "  [15, 4, 3],\n",
       "  [16, 3, 3],\n",
       "  [16, 4, 3]],\n",
       " 'teacherBusy': [[[1, 1, 1, 1, 1, 1],\n",
       "   [1, 1, 1, 1, 1, 1],\n",
       "   [0, 0, 0, 0, 0, 0],\n",
       "   [0, 0, 0, 0, 0, 0],\n",
       "   [0, 0, 0, 0, 0, 0]],\n",
       "  [[1, 1, 1, 1, 1, 1],\n",
       "   [0, 0, 0, 0, 0, 0],\n",
       "   [0, 0, 0, 0, 0, 0],\n",
       "   [0, 0, 0, 0, 0, 0],\n",
       "   [0, 0, 0, 0, 0, 0]],\n",
       "  [[0, 0, 0, 0, 0, 0],\n",
       "   [0, 0, 0, 0, 0, 0],\n",
       "   [0, 0, 0, 0, 0, 0],\n",
       "   [0, 0, 0, 0, 0, 0],\n",
       "   [0, 0, 0, 0, 0, 0]],\n",
       "  [[0, 0, 0, 0, 0, 0],\n",
       "   [0, 0, 0, 0, 0, 0],\n",
       "   [0, 0, 0, 0, 0, 0],\n",
       "   [0, 0, 0, 0, 0, 0],\n",
       "   [0, 0, 0, 0, 0, 0]],\n",
       "  [[0, 0, 0, 0, 0, 0],\n",
       "   [0, 0, 0, 0, 0, 0],\n",
       "   [0, 0, 0, 0, 0, 0],\n",
       "   [0, 0, 0, 0, 0, 0],\n",
       "   [0, 0, 0, 0, 0, 0]],\n",
       "  [[0, 0, 0, 0, 0, 0],\n",
       "   [0, 0, 0, 0, 0, 0],\n",
       "   [0, 0, 0, 0, 0, 0],\n",
       "   [0, 0, 0, 0, 0, 0],\n",
       "   [0, 0, 0, 0, 0, 0]],\n",
       "  [[0, 0, 0, 0, 0, 0],\n",
       "   [0, 0, 0, 0, 0, 0],\n",
       "   [0, 0, 0, 0, 0, 0],\n",
       "   [0, 0, 0, 0, 0, 0],\n",
       "   [0, 0, 0, 0, 0, 0]],\n",
       "  [[0, 0, 0, 0, 0, 0],\n",
       "   [0, 0, 0, 0, 0, 0],\n",
       "   [0, 0, 0, 0, 0, 0],\n",
       "   [0, 0, 0, 0, 0, 0],\n",
       "   [0, 0, 0, 0, 0, 0]],\n",
       "  [[0, 0, 0, 0, 0, 0],\n",
       "   [0, 0, 0, 0, 0, 0],\n",
       "   [0, 0, 0, 0, 0, 0],\n",
       "   [0, 0, 0, 0, 0, 0],\n",
       "   [0, 0, 0, 0, 0, 0]],\n",
       "  [[0, 0, 0, 0, 0, 0],\n",
       "   [0, 0, 0, 0, 0, 0],\n",
       "   [0, 0, 0, 0, 0, 0],\n",
       "   [0, 0, 0, 0, 0, 0],\n",
       "   [0, 0, 0, 0, 0, 0]],\n",
       "  [[0, 0, 0, 0, 0, 0],\n",
       "   [0, 0, 0, 0, 0, 0],\n",
       "   [0, 0, 0, 0, 0, 0],\n",
       "   [0, 0, 0, 0, 0, 0],\n",
       "   [0, 0, 0, 0, 0, 0]],\n",
       "  [[0, 0, 0, 0, 0, 0],\n",
       "   [0, 0, 0, 0, 0, 0],\n",
       "   [0, 0, 0, 0, 0, 0],\n",
       "   [0, 0, 0, 0, 0, 0],\n",
       "   [0, 0, 0, 0, 0, 0]],\n",
       "  [[0, 0, 0, 0, 0, 0],\n",
       "   [0, 0, 0, 0, 0, 0],\n",
       "   [0, 0, 0, 0, 0, 0],\n",
       "   [0, 0, 0, 0, 0, 0],\n",
       "   [0, 0, 0, 0, 0, 0]],\n",
       "  [[0, 0, 0, 0, 0, 0],\n",
       "   [0, 0, 0, 0, 0, 0],\n",
       "   [0, 0, 0, 0, 0, 0],\n",
       "   [0, 0, 0, 0, 0, 0],\n",
       "   [0, 0, 0, 0, 0, 0]],\n",
       "  [[0, 0, 0, 0, 0, 0],\n",
       "   [0, 0, 0, 0, 0, 0],\n",
       "   [0, 0, 0, 0, 0, 0],\n",
       "   [0, 0, 0, 0, 0, 0],\n",
       "   [0, 0, 0, 0, 0, 0]],\n",
       "  [[0, 0, 0, 0, 0, 0],\n",
       "   [0, 0, 0, 0, 0, 0],\n",
       "   [0, 0, 0, 0, 0, 0],\n",
       "   [0, 0, 0, 0, 0, 0],\n",
       "   [0, 0, 0, 0, 0, 0]]]}"
      ]
     },
     "execution_count": 11,
     "metadata": {},
     "output_type": "execute_result"
    }
   ],
   "source": [
    "newDict = {}\n",
    "newDict[\"days\"] = days\n",
    "newDict[\"slots\"] = slots\n",
    "newDict[\"classes\"] = classes\n",
    "newDict[\"rooms\"] = rooms\n",
    "newDict[\"sections\"] = sections\n",
    "newDict[\"teachers\"] = teachers\n",
    "newDict[\"classDetails\"] = classDetails\n",
    "newDict[\"teacherBusy\"] = teacherBusy\n",
    "\n",
    "pymzn.dict2dzn(newDict)\n",
    "newDict"
   ]
  },
  {
   "cell_type": "code",
   "execution_count": 12,
   "metadata": {},
   "outputs": [
    {
     "name": "stdout",
     "output_type": "stream",
     "text": [
      "6.255412578582764\n"
     ]
    }
   ],
   "source": [
    "start = time.time()\n",
    "newData = pymzn.minizinc(mzn = \"master.mzn\", data = newDict, solver = pymzn.chuffed)\n",
    "end = time.time()\n",
    "print(end-start)"
   ]
  },
  {
   "cell_type": "code",
   "execution_count": 13,
   "metadata": {},
   "outputs": [],
   "source": [
    "# teacherRoutine = newData[0][\"teacherRoutine\"]\n",
    "# sectionRoutine = newData[0][\"sectionRoutine\"]\n",
    "# roomRoutine = newData[0][\"roomRoutine\"]\n",
    "if len(newData)>0:\n",
    "    teacherRoutine = newData[0][\"teacherRoutine\"]\n",
    "    sectionRoutine = newData[0][\"sectionRoutine\"]\n",
    "    roomRoutine = newData[0][\"roomRoutine\"]\n",
    "\n",
    "else:\n",
    "    print(newData)"
   ]
  },
  {
   "cell_type": "markdown",
   "metadata": {},
   "source": [
    "### Minizinc Model 2"
   ]
  },
  {
   "cell_type": "markdown",
   "metadata": {},
   "source": [
    "#### Data Preparation"
   ]
  },
  {
   "cell_type": "code",
   "execution_count": 14,
   "metadata": {},
   "outputs": [
    {
     "data": {
      "text/plain": [
       "{'days': 5,\n",
       " 'slots': 6,\n",
       " 'classes': 32,\n",
       " 'rooms': 5,\n",
       " 'teachers': 16,\n",
       " 'teacherRoutine': [[[0, 0, 0, 0, 0, 0],\n",
       "   [0, 0, 0, 0, 0, 0],\n",
       "   [0, 0, 0, 2, 1, 0],\n",
       "   [0, 2, 0, 0, 1, 0],\n",
       "   [0, 0, 2, 1, 0, 0]],\n",
       "  [[0, 0, 0, 0, 0, 0],\n",
       "   [0, 0, 4, 3, 0, 0],\n",
       "   [0, 0, 0, 0, 0, 4],\n",
       "   [0, 0, 0, 0, 0, 3],\n",
       "   [0, 0, 3, 0, 4, 0]],\n",
       "  [[0, 0, 0, 0, 5, 0],\n",
       "   [5, 0, 0, 0, 0, 0],\n",
       "   [0, 0, 6, 0, 0, 0],\n",
       "   [0, 0, 6, 0, 0, 0],\n",
       "   [5, 0, 0, 6, 0, 0]],\n",
       "  [[0, 7, 0, 0, 8, 0],\n",
       "   [8, 7, 0, 0, 0, 0],\n",
       "   [0, 0, 7, 0, 0, 0],\n",
       "   [0, 0, 0, 0, 8, 0],\n",
       "   [0, 0, 0, 0, 0, 0]],\n",
       "  [[0, 10, 0, 0, 0, 9],\n",
       "   [0, 0, 0, 0, 0, 0],\n",
       "   [0, 10, 0, 9, 0, 0],\n",
       "   [0, 9, 0, 0, 0, 0],\n",
       "   [10, 0, 0, 0, 0, 0]],\n",
       "  [[11, 0, 0, 12, 0, 0],\n",
       "   [0, 12, 11, 0, 0, 0],\n",
       "   [0, 0, 0, 0, 0, 0],\n",
       "   [0, 0, 11, 0, 0, 0],\n",
       "   [0, 12, 0, 0, 0, 0]],\n",
       "  [[0, 0, 0, 13, 0, 14],\n",
       "   [0, 0, 0, 0, 0, 14],\n",
       "   [0, 0, 0, 0, 0, 0],\n",
       "   [14, 0, 0, 13, 0, 0],\n",
       "   [0, 0, 0, 0, 0, 13]],\n",
       "  [[16, 0, 0, 0, 0, 0],\n",
       "   [0, 0, 0, 0, 0, 15],\n",
       "   [0, 15, 0, 0, 0, 0],\n",
       "   [15, 0, 0, 16, 0, 0],\n",
       "   [0, 0, 0, 0, 0, 16]],\n",
       "  [[0, 0, 0, 18, 0, 0],\n",
       "   [0, 0, 0, 0, 0, 17],\n",
       "   [18, 0, 0, 0, 0, 17],\n",
       "   [0, 0, 18, 0, 0, 0],\n",
       "   [0, 0, 0, 0, 0, 17]],\n",
       "  [[0, 0, 0, 0, 0, 0],\n",
       "   [0, 0, 0, 0, 0, 0],\n",
       "   [19, 0, 0, 0, 0, 20],\n",
       "   [0, 0, 19, 0, 0, 20],\n",
       "   [19, 0, 0, 0, 0, 20]],\n",
       "  [[0, 0, 0, 0, 21, 0],\n",
       "   [21, 0, 22, 0, 0, 0],\n",
       "   [0, 0, 0, 22, 0, 0],\n",
       "   [0, 0, 0, 0, 0, 21],\n",
       "   [22, 0, 0, 0, 0, 0]],\n",
       "  [[0, 0, 0, 0, 24, 0],\n",
       "   [0, 0, 0, 0, 0, 0],\n",
       "   [0, 23, 0, 0, 0, 0],\n",
       "   [24, 0, 0, 23, 0, 0],\n",
       "   [0, 24, 23, 0, 0, 0]],\n",
       "  [[0, 25, 0, 0, 0, 0],\n",
       "   [0, 0, 0, 25, 0, 0],\n",
       "   [0, 0, 26, 0, 0, 0],\n",
       "   [0, 25, 0, 26, 0, 0],\n",
       "   [0, 0, 26, 0, 0, 0]],\n",
       "  [[0, 0, 0, 0, 0, 0],\n",
       "   [0, 28, 27, 0, 0, 0],\n",
       "   [0, 28, 27, 0, 0, 0],\n",
       "   [0, 0, 0, 0, 0, 0],\n",
       "   [0, 27, 0, 0, 28, 0]],\n",
       "  [[0, 0, 0, 29, 0, 0],\n",
       "   [0, 0, 0, 0, 0, 30],\n",
       "   [0, 0, 0, 29, 30, 0],\n",
       "   [29, 30, 0, 0, 0, 0],\n",
       "   [0, 0, 0, 0, 0, 0]],\n",
       "  [[0, 32, 0, 0, 0, 0],\n",
       "   [32, 31, 0, 0, 0, 0],\n",
       "   [0, 0, 0, 0, 31, 0],\n",
       "   [0, 0, 0, 0, 0, 0],\n",
       "   [0, 0, 0, 32, 31, 0]]],\n",
       " 'classDetails': [[1, 1, 3],\n",
       "  [1, 2, 3],\n",
       "  [2, 1, 3],\n",
       "  [2, 2, 3],\n",
       "  [3, 1, 3],\n",
       "  [3, 2, 3],\n",
       "  [4, 1, 3],\n",
       "  [4, 2, 3],\n",
       "  [5, 1, 3],\n",
       "  [5, 2, 3],\n",
       "  [6, 1, 3],\n",
       "  [6, 2, 3],\n",
       "  [7, 1, 3],\n",
       "  [7, 2, 3],\n",
       "  [8, 1, 3],\n",
       "  [8, 2, 3],\n",
       "  [9, 3, 3],\n",
       "  [9, 4, 3],\n",
       "  [10, 3, 3],\n",
       "  [10, 4, 3],\n",
       "  [11, 3, 3],\n",
       "  [11, 4, 3],\n",
       "  [12, 3, 3],\n",
       "  [12, 4, 3],\n",
       "  [13, 3, 3],\n",
       "  [13, 4, 3],\n",
       "  [14, 3, 3],\n",
       "  [14, 4, 3],\n",
       "  [15, 3, 3],\n",
       "  [15, 4, 3],\n",
       "  [16, 3, 3],\n",
       "  [16, 4, 3]]}"
      ]
     },
     "execution_count": 14,
     "metadata": {},
     "output_type": "execute_result"
    }
   ],
   "source": [
    "newDict2 = {}\n",
    "newDict2[\"days\"] = days\n",
    "newDict2[\"slots\"] = slots\n",
    "newDict2[\"classes\"] = classes\n",
    "newDict2[\"rooms\"] = rooms\n",
    "newDict2[\"teachers\"] = teachers\n",
    "newDict2[\"teacherRoutine\"] = teacherRoutine\n",
    "newDict2[\"classDetails\"] = classDetails\n",
    "\n",
    "pymzn.dict2dzn(newDict2)\n",
    "newDict2"
   ]
  },
  {
   "cell_type": "code",
   "execution_count": 15,
   "metadata": {},
   "outputs": [
    {
     "name": "stdout",
     "output_type": "stream",
     "text": [
      "1.4414608478546143\n"
     ]
    }
   ],
   "source": [
    "start = time.time()\n",
    "newData2 = pymzn.minizinc(mzn = \"roomAssign.mzn\", data = newDict2, solver = pymzn.gecode)\n",
    "end = time.time()\n",
    "print(end-start)"
   ]
  },
  {
   "cell_type": "code",
   "execution_count": 16,
   "metadata": {},
   "outputs": [],
   "source": [
    "if len(newData2)>0:\n",
    "    assignedSlots = newData2[0][\"assignedSlots\"]\n",
    "    roomRoutine = newData2[0][\"roomRoutine\"]\n",
    "else:\n",
    "    print(newData2)\n"
   ]
  },
  {
   "cell_type": "markdown",
   "metadata": {},
   "source": [
    "### Print Output"
   ]
  },
  {
   "cell_type": "code",
   "execution_count": 17,
   "metadata": {},
   "outputs": [
    {
     "data": {
      "text/plain": [
       "[[[0, 0, 0, 0, 0, 0],\n",
       "  [0, 0, 0, 0, 0, 0],\n",
       "  [0, 0, 0, 2, 1, 0],\n",
       "  [0, 2, 0, 0, 1, 0],\n",
       "  [0, 0, 2, 1, 0, 0]],\n",
       " [[0, 0, 0, 0, 0, 0],\n",
       "  [0, 0, 4, 3, 0, 0],\n",
       "  [0, 0, 0, 0, 0, 4],\n",
       "  [0, 0, 0, 0, 0, 3],\n",
       "  [0, 0, 3, 0, 4, 0]],\n",
       " [[0, 0, 0, 0, 5, 0],\n",
       "  [5, 0, 0, 0, 0, 0],\n",
       "  [0, 0, 6, 0, 0, 0],\n",
       "  [0, 0, 6, 0, 0, 0],\n",
       "  [5, 0, 0, 6, 0, 0]],\n",
       " [[0, 7, 0, 0, 8, 0],\n",
       "  [8, 7, 0, 0, 0, 0],\n",
       "  [0, 0, 7, 0, 0, 0],\n",
       "  [0, 0, 0, 0, 8, 0],\n",
       "  [0, 0, 0, 0, 0, 0]],\n",
       " [[0, 10, 0, 0, 0, 9],\n",
       "  [0, 0, 0, 0, 0, 0],\n",
       "  [0, 10, 0, 9, 0, 0],\n",
       "  [0, 9, 0, 0, 0, 0],\n",
       "  [10, 0, 0, 0, 0, 0]],\n",
       " [[11, 0, 0, 12, 0, 0],\n",
       "  [0, 12, 11, 0, 0, 0],\n",
       "  [0, 0, 0, 0, 0, 0],\n",
       "  [0, 0, 11, 0, 0, 0],\n",
       "  [0, 12, 0, 0, 0, 0]],\n",
       " [[0, 0, 0, 13, 0, 14],\n",
       "  [0, 0, 0, 0, 0, 14],\n",
       "  [0, 0, 0, 0, 0, 0],\n",
       "  [14, 0, 0, 13, 0, 0],\n",
       "  [0, 0, 0, 0, 0, 13]],\n",
       " [[16, 0, 0, 0, 0, 0],\n",
       "  [0, 0, 0, 0, 0, 15],\n",
       "  [0, 15, 0, 0, 0, 0],\n",
       "  [15, 0, 0, 16, 0, 0],\n",
       "  [0, 0, 0, 0, 0, 16]],\n",
       " [[0, 0, 0, 18, 0, 0],\n",
       "  [0, 0, 0, 0, 0, 17],\n",
       "  [18, 0, 0, 0, 0, 17],\n",
       "  [0, 0, 18, 0, 0, 0],\n",
       "  [0, 0, 0, 0, 0, 17]],\n",
       " [[0, 0, 0, 0, 0, 0],\n",
       "  [0, 0, 0, 0, 0, 0],\n",
       "  [19, 0, 0, 0, 0, 20],\n",
       "  [0, 0, 19, 0, 0, 20],\n",
       "  [19, 0, 0, 0, 0, 20]],\n",
       " [[0, 0, 0, 0, 21, 0],\n",
       "  [21, 0, 22, 0, 0, 0],\n",
       "  [0, 0, 0, 22, 0, 0],\n",
       "  [0, 0, 0, 0, 0, 21],\n",
       "  [22, 0, 0, 0, 0, 0]],\n",
       " [[0, 0, 0, 0, 24, 0],\n",
       "  [0, 0, 0, 0, 0, 0],\n",
       "  [0, 23, 0, 0, 0, 0],\n",
       "  [24, 0, 0, 23, 0, 0],\n",
       "  [0, 24, 23, 0, 0, 0]],\n",
       " [[0, 25, 0, 0, 0, 0],\n",
       "  [0, 0, 0, 25, 0, 0],\n",
       "  [0, 0, 26, 0, 0, 0],\n",
       "  [0, 25, 0, 26, 0, 0],\n",
       "  [0, 0, 26, 0, 0, 0]],\n",
       " [[0, 0, 0, 0, 0, 0],\n",
       "  [0, 28, 27, 0, 0, 0],\n",
       "  [0, 28, 27, 0, 0, 0],\n",
       "  [0, 0, 0, 0, 0, 0],\n",
       "  [0, 27, 0, 0, 28, 0]],\n",
       " [[0, 0, 0, 29, 0, 0],\n",
       "  [0, 0, 0, 0, 0, 30],\n",
       "  [0, 0, 0, 29, 30, 0],\n",
       "  [29, 30, 0, 0, 0, 0],\n",
       "  [0, 0, 0, 0, 0, 0]],\n",
       " [[0, 32, 0, 0, 0, 0],\n",
       "  [32, 31, 0, 0, 0, 0],\n",
       "  [0, 0, 0, 0, 31, 0],\n",
       "  [0, 0, 0, 0, 0, 0],\n",
       "  [0, 0, 0, 32, 31, 0]]]"
      ]
     },
     "execution_count": 17,
     "metadata": {},
     "output_type": "execute_result"
    }
   ],
   "source": [
    "teacherRoutine"
   ]
  },
  {
   "cell_type": "code",
   "execution_count": 18,
   "metadata": {
    "scrolled": false
   },
   "outputs": [
    {
     "name": "stdout",
     "output_type": "stream",
     "text": [
      "11   16\n",
      "7   10\n",
      "0   0\n",
      "13   12\n",
      "5   8\n",
      "9   14\n",
      "5   8\n",
      "7   12\n",
      "11   4\n",
      "3   0\n",
      "0   0\n",
      "15   14\n",
      "0   0\n",
      "15   10\n",
      "7   6\n",
      "9   2\n",
      "1   0\n",
      "0   4\n",
      "15   14\n",
      "9   2\n",
      "11   6\n",
      "13   16\n",
      "1   8\n",
      "3   0\n",
      "5   10\n",
      "0   12\n",
      "3   2\n",
      "1   6\n",
      "0   4\n",
      "13   16\n"
     ]
    }
   ],
   "source": [
    "for i in range(5):\n",
    "    for j in range(6):\n",
    "        print(sectionRoutine[0][i][j],' ',sectionRoutine[1][i][j])"
   ]
  },
  {
   "cell_type": "code",
   "execution_count": 19,
   "metadata": {},
   "outputs": [
    {
     "data": {
      "text/plain": [
       "[[[16, 32, 0, 29, 24, 14],\n",
       "  [32, 31, 27, 25, 0, 30],\n",
       "  [19, 28, 27, 29, 31, 20],\n",
       "  [29, 30, 19, 26, 8, 21],\n",
       "  [22, 27, 26, 32, 31, 20]],\n",
       " [[11, 25, 0, 18, 21, 9],\n",
       "  [21, 28, 22, 3, 0, 17],\n",
       "  [18, 23, 26, 22, 30, 17],\n",
       "  [24, 25, 18, 23, 1, 20],\n",
       "  [19, 24, 23, 6, 28, 17]],\n",
       " [[0, 10, 0, 13, 8, 0],\n",
       "  [8, 12, 11, 0, 0, 15],\n",
       "  [0, 15, 7, 9, 1, 4],\n",
       "  [15, 9, 11, 16, 0, 3],\n",
       "  [10, 12, 3, 1, 4, 16]],\n",
       " [[0, 7, 0, 12, 5, 0],\n",
       "  [5, 7, 4, 0, 0, 14],\n",
       "  [0, 10, 6, 2, 0, 0],\n",
       "  [14, 2, 6, 13, 0, 0],\n",
       "  [5, 0, 2, 0, 0, 13]],\n",
       " [[0, 0, 0, 0, 0, 0],\n",
       "  [0, 0, 0, 0, 0, 0],\n",
       "  [0, 0, 0, 0, 0, 0],\n",
       "  [0, 0, 0, 0, 0, 0],\n",
       "  [0, 0, 0, 0, 0, 0]]]"
      ]
     },
     "execution_count": 19,
     "metadata": {},
     "output_type": "execute_result"
    }
   ],
   "source": [
    "roomRoutine"
   ]
  },
  {
   "cell_type": "code",
   "execution_count": 20,
   "metadata": {},
   "outputs": [
    {
     "data": {
      "text/plain": [
       "[[77, 53, 88],\n",
       " [106, 110, 117],\n",
       " [40, 84, 87],\n",
       " [99, 78, 89],\n",
       " [95, 97, 115],\n",
       " [105, 111, 58],\n",
       " [92, 98, 75],\n",
       " [65, 67, 23],\n",
       " [36, 76, 80],\n",
       " [62, 104, 85],\n",
       " [31, 69, 81],\n",
       " [94, 68, 86],\n",
       " [64, 112, 120],\n",
       " [6, 102, 109],\n",
       " [72, 74, 79],\n",
       " [1, 82, 90],\n",
       " [42, 48, 60],\n",
       " [34, 43, 51],\n",
       " [13, 21, 55],\n",
       " [18, 54, 30],\n",
       " [35, 37, 24],\n",
       " [39, 46, 25],\n",
       " [44, 52, 57],\n",
       " [5, 49, 56],\n",
       " [32, 10, 50],\n",
       " [45, 22, 27],\n",
       " [9, 15, 26],\n",
       " [38, 14, 59],\n",
       " [4, 16, 19],\n",
       " [12, 47, 20],\n",
       " [8, 17, 29],\n",
       " [2, 7, 28]]"
      ]
     },
     "execution_count": 20,
     "metadata": {},
     "output_type": "execute_result"
    }
   ],
   "source": [
    "assignedSlots"
   ]
  },
  {
   "cell_type": "code",
   "execution_count": null,
   "metadata": {},
   "outputs": [],
   "source": []
  },
  {
   "cell_type": "code",
   "execution_count": null,
   "metadata": {},
   "outputs": [],
   "source": []
  }
 ],
 "metadata": {
  "kernelspec": {
   "display_name": "Python 3",
   "language": "python",
   "name": "python3"
  },
  "language_info": {
   "codemirror_mode": {
    "name": "ipython",
    "version": 3
   },
   "file_extension": ".py",
   "mimetype": "text/x-python",
   "name": "python",
   "nbconvert_exporter": "python",
   "pygments_lexer": "ipython3",
   "version": "3.7.1"
  }
 },
 "nbformat": 4,
 "nbformat_minor": 2
}
