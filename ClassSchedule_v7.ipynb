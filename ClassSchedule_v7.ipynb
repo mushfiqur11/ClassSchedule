{
 "cells": [
  {
   "cell_type": "code",
   "execution_count": 1,
   "metadata": {},
   "outputs": [],
   "source": [
    "import os\n",
    "import numpy as np\n",
    "import pandas as pd\n",
    "import pymzn\n",
    "import time"
   ]
  },
  {
   "cell_type": "code",
   "execution_count": 2,
   "metadata": {},
   "outputs": [],
   "source": [
    "rooms = 8\n",
    "slots = 6\n",
    "days = 5"
   ]
  },
  {
   "cell_type": "markdown",
   "metadata": {},
   "source": [
    "### Import Files"
   ]
  },
  {
   "cell_type": "code",
   "execution_count": 3,
   "metadata": {},
   "outputs": [],
   "source": [
    "data = pd.read_csv(\"classDetails.csv\")\n",
    "data = data[0:36]"
   ]
  },
  {
   "cell_type": "code",
   "execution_count": 4,
   "metadata": {},
   "outputs": [
    {
     "name": "stdout",
     "output_type": "stream",
     "text": [
      "18 6 36\n"
     ]
    }
   ],
   "source": [
    "classDetails = data.to_numpy(dtype=int).tolist()\n",
    "# print(classDetails)\n",
    "sections = max(data[\"Section\"].to_numpy(dtype=int))\n",
    "teachers = max(data[\"Teacher\"].to_numpy(dtype=int))\n",
    "classes = int(len(data))\n",
    "print(teachers,sections,classes)"
   ]
  },
  {
   "cell_type": "markdown",
   "metadata": {},
   "source": [
    "### Initialize Rest"
   ]
  },
  {
   "cell_type": "code",
   "execution_count": 9,
   "metadata": {},
   "outputs": [],
   "source": [
    "tBusy = np.zeros((teachers,5,6))\n",
    "for i in range(0,6):\n",
    "    tBusy[0,0,i] = 1\n",
    "    tBusy[0,1,i] = 1\n",
    "    tBusy[1,0,i] = 1\n",
    "# print(tBusy.astype(int))\n",
    "teacherBusy = tBusy.astype(int).tolist()"
   ]
  },
  {
   "cell_type": "markdown",
   "metadata": {},
   "source": [
    "### Minizinc Model 1"
   ]
  },
  {
   "cell_type": "markdown",
   "metadata": {},
   "source": [
    "#### Data Preparation"
   ]
  },
  {
   "cell_type": "code",
   "execution_count": 10,
   "metadata": {},
   "outputs": [
    {
     "data": {
      "text/plain": [
       "{'days': 5,\n",
       " 'slots': 6,\n",
       " 'classes': 36,\n",
       " 'rooms': 8,\n",
       " 'sections': 6,\n",
       " 'teachers': 18,\n",
       " 'classDetails': [[1, 1, 3],\n",
       "  [1, 2, 3],\n",
       "  [2, 1, 3],\n",
       "  [2, 2, 3],\n",
       "  [3, 1, 3],\n",
       "  [3, 2, 3],\n",
       "  [4, 1, 3],\n",
       "  [4, 2, 3],\n",
       "  [5, 1, 3],\n",
       "  [5, 2, 3],\n",
       "  [6, 1, 3],\n",
       "  [6, 2, 3],\n",
       "  [7, 3, 3],\n",
       "  [7, 4, 3],\n",
       "  [8, 3, 3],\n",
       "  [8, 4, 3],\n",
       "  [9, 3, 3],\n",
       "  [9, 4, 3],\n",
       "  [10, 3, 3],\n",
       "  [10, 4, 3],\n",
       "  [11, 3, 3],\n",
       "  [11, 4, 3],\n",
       "  [12, 3, 3],\n",
       "  [12, 4, 3],\n",
       "  [13, 5, 3],\n",
       "  [13, 6, 3],\n",
       "  [14, 5, 3],\n",
       "  [14, 6, 3],\n",
       "  [15, 5, 3],\n",
       "  [15, 6, 3],\n",
       "  [16, 5, 3],\n",
       "  [16, 6, 3],\n",
       "  [17, 5, 3],\n",
       "  [17, 6, 3],\n",
       "  [18, 5, 3],\n",
       "  [18, 6, 3]],\n",
       " 'teacherBusy': [[[1, 1, 1, 1, 1, 1],\n",
       "   [1, 1, 1, 1, 1, 1],\n",
       "   [0, 0, 0, 0, 0, 0],\n",
       "   [0, 0, 0, 0, 0, 0],\n",
       "   [0, 0, 0, 0, 0, 0]],\n",
       "  [[1, 1, 1, 1, 1, 1],\n",
       "   [0, 0, 0, 0, 0, 0],\n",
       "   [0, 0, 0, 0, 0, 0],\n",
       "   [0, 0, 0, 0, 0, 0],\n",
       "   [0, 0, 0, 0, 0, 0]],\n",
       "  [[0, 0, 0, 0, 0, 0],\n",
       "   [0, 0, 0, 0, 0, 0],\n",
       "   [0, 0, 0, 0, 0, 0],\n",
       "   [0, 0, 0, 0, 0, 0],\n",
       "   [0, 0, 0, 0, 0, 0]],\n",
       "  [[0, 0, 0, 0, 0, 0],\n",
       "   [0, 0, 0, 0, 0, 0],\n",
       "   [0, 0, 0, 0, 0, 0],\n",
       "   [0, 0, 0, 0, 0, 0],\n",
       "   [0, 0, 0, 0, 0, 0]],\n",
       "  [[0, 0, 0, 0, 0, 0],\n",
       "   [0, 0, 0, 0, 0, 0],\n",
       "   [0, 0, 0, 0, 0, 0],\n",
       "   [0, 0, 0, 0, 0, 0],\n",
       "   [0, 0, 0, 0, 0, 0]],\n",
       "  [[0, 0, 0, 0, 0, 0],\n",
       "   [0, 0, 0, 0, 0, 0],\n",
       "   [0, 0, 0, 0, 0, 0],\n",
       "   [0, 0, 0, 0, 0, 0],\n",
       "   [0, 0, 0, 0, 0, 0]],\n",
       "  [[0, 0, 0, 0, 0, 0],\n",
       "   [0, 0, 0, 0, 0, 0],\n",
       "   [0, 0, 0, 0, 0, 0],\n",
       "   [0, 0, 0, 0, 0, 0],\n",
       "   [0, 0, 0, 0, 0, 0]],\n",
       "  [[0, 0, 0, 0, 0, 0],\n",
       "   [0, 0, 0, 0, 0, 0],\n",
       "   [0, 0, 0, 0, 0, 0],\n",
       "   [0, 0, 0, 0, 0, 0],\n",
       "   [0, 0, 0, 0, 0, 0]],\n",
       "  [[0, 0, 0, 0, 0, 0],\n",
       "   [0, 0, 0, 0, 0, 0],\n",
       "   [0, 0, 0, 0, 0, 0],\n",
       "   [0, 0, 0, 0, 0, 0],\n",
       "   [0, 0, 0, 0, 0, 0]],\n",
       "  [[0, 0, 0, 0, 0, 0],\n",
       "   [0, 0, 0, 0, 0, 0],\n",
       "   [0, 0, 0, 0, 0, 0],\n",
       "   [0, 0, 0, 0, 0, 0],\n",
       "   [0, 0, 0, 0, 0, 0]],\n",
       "  [[0, 0, 0, 0, 0, 0],\n",
       "   [0, 0, 0, 0, 0, 0],\n",
       "   [0, 0, 0, 0, 0, 0],\n",
       "   [0, 0, 0, 0, 0, 0],\n",
       "   [0, 0, 0, 0, 0, 0]],\n",
       "  [[0, 0, 0, 0, 0, 0],\n",
       "   [0, 0, 0, 0, 0, 0],\n",
       "   [0, 0, 0, 0, 0, 0],\n",
       "   [0, 0, 0, 0, 0, 0],\n",
       "   [0, 0, 0, 0, 0, 0]],\n",
       "  [[0, 0, 0, 0, 0, 0],\n",
       "   [0, 0, 0, 0, 0, 0],\n",
       "   [0, 0, 0, 0, 0, 0],\n",
       "   [0, 0, 0, 0, 0, 0],\n",
       "   [0, 0, 0, 0, 0, 0]],\n",
       "  [[0, 0, 0, 0, 0, 0],\n",
       "   [0, 0, 0, 0, 0, 0],\n",
       "   [0, 0, 0, 0, 0, 0],\n",
       "   [0, 0, 0, 0, 0, 0],\n",
       "   [0, 0, 0, 0, 0, 0]],\n",
       "  [[0, 0, 0, 0, 0, 0],\n",
       "   [0, 0, 0, 0, 0, 0],\n",
       "   [0, 0, 0, 0, 0, 0],\n",
       "   [0, 0, 0, 0, 0, 0],\n",
       "   [0, 0, 0, 0, 0, 0]],\n",
       "  [[0, 0, 0, 0, 0, 0],\n",
       "   [0, 0, 0, 0, 0, 0],\n",
       "   [0, 0, 0, 0, 0, 0],\n",
       "   [0, 0, 0, 0, 0, 0],\n",
       "   [0, 0, 0, 0, 0, 0]],\n",
       "  [[0, 0, 0, 0, 0, 0],\n",
       "   [0, 0, 0, 0, 0, 0],\n",
       "   [0, 0, 0, 0, 0, 0],\n",
       "   [0, 0, 0, 0, 0, 0],\n",
       "   [0, 0, 0, 0, 0, 0]],\n",
       "  [[0, 0, 0, 0, 0, 0],\n",
       "   [0, 0, 0, 0, 0, 0],\n",
       "   [0, 0, 0, 0, 0, 0],\n",
       "   [0, 0, 0, 0, 0, 0],\n",
       "   [0, 0, 0, 0, 0, 0]]]}"
      ]
     },
     "execution_count": 10,
     "metadata": {},
     "output_type": "execute_result"
    }
   ],
   "source": [
    "newDict = {}\n",
    "newDict[\"days\"] = days\n",
    "newDict[\"slots\"] = slots\n",
    "newDict[\"classes\"] = classes\n",
    "newDict[\"rooms\"] = rooms\n",
    "newDict[\"sections\"] = sections\n",
    "newDict[\"teachers\"] = teachers\n",
    "newDict[\"classDetails\"] = classDetails\n",
    "newDict[\"teacherBusy\"] = teacherBusy\n",
    "\n",
    "pymzn.dict2dzn(newDict)\n",
    "newDict"
   ]
  },
  {
   "cell_type": "code",
   "execution_count": 11,
   "metadata": {},
   "outputs": [
    {
     "name": "stdout",
     "output_type": "stream",
     "text": [
      "7.09658670425415\n"
     ]
    }
   ],
   "source": [
    "start = time.time()\n",
    "newData = pymzn.minizinc(mzn = \"master_v7.mzn\", data = newDict, solver = pymzn.chuffed)\n",
    "end = time.time()\n",
    "print(end-start)"
   ]
  },
  {
   "cell_type": "code",
   "execution_count": 12,
   "metadata": {},
   "outputs": [],
   "source": [
    "# teacherRoutine = newData[0][\"teacherRoutine\"]\n",
    "# sectionRoutine = newData[0][\"sectionRoutine\"]\n",
    "# roomRoutine = newData[0][\"roomRoutine\"]\n",
    "if len(newData)>0:\n",
    "    teacherRoutine = newData[0][\"teacherRoutine\"]\n",
    "    sectionRoutine = newData[0][\"sectionRoutine\"]\n",
    "    roomRoutine = newData[0][\"roomRoutine\"]\n",
    "\n",
    "else:\n",
    "    print(newData)"
   ]
  },
  {
   "cell_type": "code",
   "execution_count": 13,
   "metadata": {},
   "outputs": [
    {
     "data": {
      "text/plain": [
       "[[[0, 0, 0, 0, 0, 0],\n",
       "  [0, 0, 0, 0, 0, 0],\n",
       "  [1, 0, 0, 0, 2, 0],\n",
       "  [0, 0, 2, 1, 0, 0],\n",
       "  [0, 2, 0, 1, 0, 0]],\n",
       " [[0, 0, 0, 0, 0, 0],\n",
       "  [0, 0, 4, 0, 0, 0],\n",
       "  [4, 0, 0, 0, 0, 3],\n",
       "  [3, 0, 0, 0, 0, 0],\n",
       "  [0, 3, 0, 0, 0, 4]],\n",
       " [[0, 0, 0, 0, 0, 0],\n",
       "  [0, 0, 5, 6, 0, 0],\n",
       "  [0, 0, 5, 6, 0, 0],\n",
       "  [0, 6, 0, 0, 5, 0],\n",
       "  [0, 0, 0, 0, 0, 0]],\n",
       " [[0, 8, 0, 0, 0, 7],\n",
       "  [0, 0, 0, 0, 0, 0],\n",
       "  [0, 7, 8, 0, 0, 0],\n",
       "  [0, 0, 0, 8, 0, 7],\n",
       "  [0, 0, 0, 0, 0, 0]],\n",
       " [[9, 0, 0, 0, 0, 0],\n",
       "  [0, 0, 0, 0, 0, 0],\n",
       "  [0, 10, 0, 9, 0, 0],\n",
       "  [0, 9, 0, 0, 0, 10],\n",
       "  [0, 0, 0, 10, 0, 0]],\n",
       " [[12, 11, 0, 0, 0, 0],\n",
       "  [0, 0, 0, 11, 0, 0],\n",
       "  [0, 0, 0, 0, 0, 12],\n",
       "  [0, 0, 0, 0, 12, 0],\n",
       "  [0, 0, 0, 0, 0, 11]],\n",
       " [[0, 13, 0, 0, 0, 0],\n",
       "  [0, 0, 0, 0, 0, 0],\n",
       "  [0, 13, 0, 0, 14, 0],\n",
       "  [14, 13, 0, 0, 0, 0],\n",
       "  [0, 0, 0, 0, 0, 14]],\n",
       " [[0, 0, 0, 0, 0, 0],\n",
       "  [0, 0, 0, 15, 16, 0],\n",
       "  [0, 16, 15, 0, 0, 0],\n",
       "  [0, 0, 0, 16, 15, 0],\n",
       "  [0, 0, 0, 0, 0, 0]],\n",
       " [[17, 18, 0, 0, 0, 0],\n",
       "  [0, 0, 0, 0, 0, 0],\n",
       "  [18, 0, 0, 0, 0, 17],\n",
       "  [0, 0, 0, 17, 18, 0],\n",
       "  [0, 0, 0, 0, 0, 0]],\n",
       " [[20, 0, 19, 0, 0, 0],\n",
       "  [0, 0, 0, 20, 0, 0],\n",
       "  [0, 0, 0, 19, 0, 0],\n",
       "  [0, 0, 0, 0, 0, 0],\n",
       "  [0, 19, 0, 20, 0, 0]],\n",
       " [[0, 0, 22, 0, 0, 21],\n",
       "  [0, 0, 22, 0, 0, 0],\n",
       "  [0, 0, 0, 22, 0, 0],\n",
       "  [0, 0, 0, 0, 0, 21],\n",
       "  [0, 0, 0, 21, 0, 0]],\n",
       " [[0, 0, 0, 0, 0, 24],\n",
       "  [0, 0, 23, 0, 0, 0],\n",
       "  [23, 0, 24, 0, 0, 0],\n",
       "  [0, 0, 23, 0, 0, 24],\n",
       "  [0, 0, 0, 0, 0, 0]],\n",
       " [[0, 0, 26, 0, 0, 25],\n",
       "  [0, 0, 0, 25, 0, 0],\n",
       "  [0, 0, 26, 0, 0, 0],\n",
       "  [0, 0, 0, 0, 26, 0],\n",
       "  [0, 0, 0, 25, 0, 0]],\n",
       " [[0, 0, 0, 0, 0, 28],\n",
       "  [0, 0, 0, 0, 0, 0],\n",
       "  [28, 0, 27, 0, 0, 0],\n",
       "  [0, 0, 0, 28, 27, 0],\n",
       "  [0, 0, 27, 0, 0, 0]],\n",
       " [[29, 0, 0, 0, 0, 0],\n",
       "  [0, 0, 0, 0, 0, 0],\n",
       "  [0, 29, 0, 30, 0, 0],\n",
       "  [0, 0, 30, 0, 0, 0],\n",
       "  [0, 0, 30, 0, 0, 29]],\n",
       " [[32, 0, 0, 0, 31, 0],\n",
       "  [0, 0, 0, 0, 0, 0],\n",
       "  [0, 0, 0, 0, 32, 31],\n",
       "  [0, 0, 0, 0, 0, 31],\n",
       "  [0, 0, 0, 0, 0, 32]],\n",
       " [[0, 0, 0, 0, 0, 0],\n",
       "  [0, 0, 34, 0, 0, 0],\n",
       "  [0, 34, 0, 0, 33, 0],\n",
       "  [33, 0, 0, 0, 0, 34],\n",
       "  [33, 0, 0, 0, 0, 0]],\n",
       " [[0, 36, 0, 0, 0, 0],\n",
       "  [0, 0, 35, 36, 0, 0],\n",
       "  [0, 0, 0, 35, 0, 0],\n",
       "  [36, 0, 0, 35, 0, 0],\n",
       "  [0, 0, 0, 0, 0, 0]]]"
      ]
     },
     "execution_count": 13,
     "metadata": {},
     "output_type": "execute_result"
    }
   ],
   "source": [
    "teacherRoutine"
   ]
  },
  {
   "cell_type": "code",
   "execution_count": 14,
   "metadata": {},
   "outputs": [
    {
     "data": {
      "text/plain": [
       "[[[9, 11, 0, 0, 0, 7],\n",
       "  [0, 0, 5, 11, 0, 0],\n",
       "  [1, 7, 5, 9, 0, 3],\n",
       "  [3, 9, 0, 1, 5, 7],\n",
       "  [0, 3, 0, 1, 0, 11]],\n",
       " [[12, 8, 0, 0, 0, 0],\n",
       "  [0, 0, 4, 6, 0, 0],\n",
       "  [4, 10, 8, 6, 2, 12],\n",
       "  [0, 6, 2, 8, 12, 10],\n",
       "  [0, 2, 0, 10, 0, 4]],\n",
       " [[17, 13, 19, 0, 0, 21],\n",
       "  [0, 0, 23, 15, 0, 0],\n",
       "  [23, 13, 15, 19, 0, 17],\n",
       "  [0, 13, 23, 17, 15, 21],\n",
       "  [0, 19, 0, 21, 0, 0]],\n",
       " [[20, 18, 22, 0, 0, 24],\n",
       "  [0, 0, 22, 20, 16, 0],\n",
       "  [18, 16, 24, 22, 14, 0],\n",
       "  [14, 0, 0, 16, 18, 24],\n",
       "  [0, 0, 0, 20, 0, 14]],\n",
       " [[29, 0, 0, 0, 31, 25],\n",
       "  [0, 0, 35, 25, 0, 0],\n",
       "  [0, 29, 27, 35, 33, 31],\n",
       "  [33, 0, 0, 35, 27, 31],\n",
       "  [33, 0, 27, 25, 0, 29]],\n",
       " [[32, 36, 26, 0, 0, 28],\n",
       "  [0, 0, 34, 36, 0, 0],\n",
       "  [28, 34, 26, 30, 32, 0],\n",
       "  [36, 0, 30, 28, 26, 34],\n",
       "  [0, 0, 30, 0, 0, 32]]]"
      ]
     },
     "execution_count": 14,
     "metadata": {},
     "output_type": "execute_result"
    }
   ],
   "source": [
    "sectionRoutine"
   ]
  },
  {
   "cell_type": "markdown",
   "metadata": {},
   "source": [
    "### Minizinc Model 2"
   ]
  },
  {
   "cell_type": "markdown",
   "metadata": {},
   "source": [
    "#### Data Preparation"
   ]
  },
  {
   "cell_type": "code",
   "execution_count": null,
   "metadata": {},
   "outputs": [],
   "source": [
    "newDict2 = {}\n",
    "newDict2[\"days\"] = days\n",
    "newDict2[\"slots\"] = slots\n",
    "newDict2[\"classes\"] = classes\n",
    "newDict2[\"rooms\"] = rooms\n",
    "newDict2[\"teachers\"] = teachers\n",
    "newDict2[\"teacherRoutine\"] = teacherRoutine\n",
    "newDict2[\"classDetails\"] = classDetails\n",
    "\n",
    "pymzn.dict2dzn(newDict2)\n",
    "newDict2"
   ]
  },
  {
   "cell_type": "code",
   "execution_count": null,
   "metadata": {},
   "outputs": [],
   "source": [
    "start = time.time()\n",
    "newData2 = pymzn.minizinc(mzn = \"roomAssign_v7.mzn\", data = newDict2, solver = pymzn.gecode)\n",
    "end = time.time()\n",
    "print(end-start)"
   ]
  },
  {
   "cell_type": "code",
   "execution_count": null,
   "metadata": {},
   "outputs": [],
   "source": [
    "if len(newData2)>0:\n",
    "    assignedSlots = newData2[0][\"assignedSlots\"]\n",
    "    roomRoutine = newData2[0][\"roomRoutine\"]\n",
    "else:\n",
    "    print(newData2)\n"
   ]
  },
  {
   "cell_type": "markdown",
   "metadata": {},
   "source": [
    "### Print Output"
   ]
  },
  {
   "cell_type": "code",
   "execution_count": 33,
   "metadata": {
    "scrolled": false
   },
   "outputs": [],
   "source": [
    "roomRoutine = np.zeros((rooms,days,slots),dtype=int)\n",
    "for i in range(5):\n",
    "    for j in range(6):\n",
    "        myRoom = 0\n",
    "        for k in range(sections):\n",
    "            if sectionRoutine[k][i][j] > 0:\n",
    "                roomRoutine[myRoom][i][j] = sectionRoutine[k][i][j]\n",
    "                myRoom += 1"
   ]
  },
  {
   "cell_type": "code",
   "execution_count": 34,
   "metadata": {},
   "outputs": [
    {
     "data": {
      "text/plain": [
       "array([[[ 9, 11, 19,  0, 31,  7],\n",
       "        [ 0,  0,  5, 11, 16,  0],\n",
       "        [ 1,  7,  5,  9,  2,  3],\n",
       "        [ 3,  9,  2,  1,  5,  7],\n",
       "        [33,  3, 27,  1,  0, 11]],\n",
       "\n",
       "       [[12,  8, 22,  0,  0, 21],\n",
       "        [ 0,  0,  4,  6,  0,  0],\n",
       "        [ 4, 10,  8,  6, 14, 12],\n",
       "        [14,  6, 23,  8, 12, 10],\n",
       "        [ 0,  2, 30, 10,  0,  4]],\n",
       "\n",
       "       [[17, 13, 26,  0,  0, 24],\n",
       "        [ 0,  0, 23, 15,  0,  0],\n",
       "        [23, 13, 15, 19, 33, 17],\n",
       "        [33, 13, 30, 17, 15, 21],\n",
       "        [ 0, 19,  0, 21,  0, 14]],\n",
       "\n",
       "       [[20, 18,  0,  0,  0, 25],\n",
       "        [ 0,  0, 22, 20,  0,  0],\n",
       "        [18, 16, 24, 22, 32, 31],\n",
       "        [36,  0,  0, 16, 18, 24],\n",
       "        [ 0,  0,  0, 20,  0, 29]],\n",
       "\n",
       "       [[29, 36,  0,  0,  0, 28],\n",
       "        [ 0,  0, 35, 25,  0,  0],\n",
       "        [28, 29, 27, 35,  0,  0],\n",
       "        [ 0,  0,  0, 35, 27, 31],\n",
       "        [ 0,  0,  0, 25,  0, 32]],\n",
       "\n",
       "       [[32,  0,  0,  0,  0,  0],\n",
       "        [ 0,  0, 34, 36,  0,  0],\n",
       "        [ 0, 34, 26, 30,  0,  0],\n",
       "        [ 0,  0,  0, 28, 26, 34],\n",
       "        [ 0,  0,  0,  0,  0,  0]],\n",
       "\n",
       "       [[ 0,  0,  0,  0,  0,  0],\n",
       "        [ 0,  0,  0,  0,  0,  0],\n",
       "        [ 0,  0,  0,  0,  0,  0],\n",
       "        [ 0,  0,  0,  0,  0,  0],\n",
       "        [ 0,  0,  0,  0,  0,  0]],\n",
       "\n",
       "       [[ 0,  0,  0,  0,  0,  0],\n",
       "        [ 0,  0,  0,  0,  0,  0],\n",
       "        [ 0,  0,  0,  0,  0,  0],\n",
       "        [ 0,  0,  0,  0,  0,  0],\n",
       "        [ 0,  0,  0,  0,  0,  0]]])"
      ]
     },
     "execution_count": 34,
     "metadata": {},
     "output_type": "execute_result"
    }
   ],
   "source": [
    "roomRoutine"
   ]
  },
  {
   "cell_type": "code",
   "execution_count": null,
   "metadata": {},
   "outputs": [],
   "source": [
    "assignedSlots"
   ]
  },
  {
   "cell_type": "code",
   "execution_count": null,
   "metadata": {},
   "outputs": [],
   "source": []
  },
  {
   "cell_type": "code",
   "execution_count": null,
   "metadata": {},
   "outputs": [],
   "source": []
  }
 ],
 "metadata": {
  "kernelspec": {
   "display_name": "Python 3",
   "language": "python",
   "name": "python3"
  },
  "language_info": {
   "codemirror_mode": {
    "name": "ipython",
    "version": 3
   },
   "file_extension": ".py",
   "mimetype": "text/x-python",
   "name": "python",
   "nbconvert_exporter": "python",
   "pygments_lexer": "ipython3",
   "version": "3.7.1"
  }
 },
 "nbformat": 4,
 "nbformat_minor": 2
}
