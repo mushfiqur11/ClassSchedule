{
 "cells": [
  {
   "cell_type": "code",
   "execution_count": 146,
   "metadata": {},
   "outputs": [
    {
     "name": "stdout",
     "output_type": "stream",
     "text": [
      "The iminizinc extension is already loaded. To reload it, use:\n",
      "  %reload_ext iminizinc\n"
     ]
    }
   ],
   "source": [
    "import os\n",
    "import numpy as np\n",
    "import pandas as pd\n",
    "%load_ext iminizinc"
   ]
  },
  {
   "cell_type": "code",
   "execution_count": 153,
   "metadata": {},
   "outputs": [],
   "source": [
    "classes = 6\n",
    "rooms = 1\n",
    "sections = 2\n",
    "teachers = 3"
   ]
  },
  {
   "cell_type": "markdown",
   "metadata": {},
   "source": [
    "### Randomly initialization"
   ]
  },
  {
   "cell_type": "code",
   "execution_count": 159,
   "metadata": {},
   "outputs": [
    {
     "name": "stdout",
     "output_type": "stream",
     "text": [
      "[[1 1 3]\n",
      " [1 2 3]\n",
      " [2 1 3]\n",
      " [2 2 3]\n",
      " [3 1 3]\n",
      " [3 2 3]]\n"
     ]
    }
   ],
   "source": [
    "tList = np.random.randint(1,teachers+1,size=(classes))\n",
    "sList = np.random.randint(1,sections+1,size=(classes))\n",
    "hList = np.random.randint(3,4,size=(classes))\n",
    "\n",
    "tList[0] = 1\n",
    "j=0\n",
    "for i in range(0,classes):\n",
    "    if i%sections==0:\n",
    "#         print(\"i ran\",tList[i])\n",
    "        j=j+1\n",
    "        for s in range(0,sections):\n",
    "            tList[i+s] = j\n",
    "            sList[i+s] = s+1\n",
    "\n",
    "classDetails = np.array([tList, sList, hList])\n",
    "classDetails = classDetails.T\n",
    "# print(classDetails)\n",
    "# print(classDetails.shape[0])\n",
    "print(classDetails)\n",
    "classes = classDetails.shape[0]\n",
    "classDetails = classDetails.tolist()"
   ]
  },
  {
   "cell_type": "code",
   "execution_count": 160,
   "metadata": {},
   "outputs": [],
   "source": [
    "tBusy = np.zeros((teachers,5,6))\n",
    "for i in range(0,6):\n",
    "    tBusy[0,0,i] = 1\n",
    "    tBusy[0,1,i] = 1\n",
    "    tBusy[1,0,i] = 1\n",
    "# print(tBusy.astype(int))\n",
    "teacherBusy = tBusy.astype(int).tolist()"
   ]
  },
  {
   "cell_type": "markdown",
   "metadata": {},
   "source": [
    "### Minizinc Model"
   ]
  },
  {
   "cell_type": "code",
   "execution_count": 161,
   "metadata": {},
   "outputs": [
    {
     "ename": "KeyboardInterrupt",
     "evalue": "",
     "output_type": "error",
     "traceback": [
      "\u001b[0;31m---------------------------------------------------------------------------\u001b[0m",
      "\u001b[0;31mKeyboardInterrupt\u001b[0m                         Traceback (most recent call last)",
      "\u001b[0;32m<ipython-input-161-29ab27fe9306>\u001b[0m in \u001b[0;36m<module>\u001b[0;34m\u001b[0m\n\u001b[0;32m----> 1\u001b[0;31m \u001b[0mget_ipython\u001b[0m\u001b[0;34m(\u001b[0m\u001b[0;34m)\u001b[0m\u001b[0;34m.\u001b[0m\u001b[0mrun_cell_magic\u001b[0m\u001b[0;34m(\u001b[0m\u001b[0;34m'minizinc'\u001b[0m\u001b[0;34m,\u001b[0m \u001b[0;34m'-m bind'\u001b[0m\u001b[0;34m,\u001b[0m \u001b[0;34m'\\ninclude \"globals.mzn\";\\nset of int: slotsPerDay = 1..6;\\nset of int: daysPerWeek = 1..5;\\n\\nset of int: properties = 1..3; \\n%property0 = teacher\\n%property1 = section\\n%property2 = hours per week\\n\\nint: classes;\\nint: rooms;\\nint: sections;\\nint: teachers;\\n\\nset of int: sectionList = 1..sections;\\nset of int: teacherList = 1..teachers;\\nset of int: roomList = 1..rooms;\\nset of int: classList = 1..classes;\\nset of int: classIndex = 0..classes;\\n\\narray[classList,properties] of int: classDetails;\\n\\narray[teacherList,daysPerWeek,slotsPerDay] of var classIndex: teacherRoutine;\\narray[teacherList,daysPerWeek,slotsPerDay] of 0..1: teacherBusy;\\narray[sectionList,daysPerWeek,slotsPerDay] of var classIndex: sectionRoutine;\\narray[roomList,daysPerWeek,slotsPerDay] of var classIndex: roomRoutine;\\n\\n% a class will not be repeated in the same day\\nconstraint \\nforall(i in classList, d in daysPerWeek)\\n    (\\n        count(teacherRoutine[classDetails[i,1],d,..],i)<=1\\n    );\\n\\n% total hours of each course will be equal to the credit hour\\nconstraint \\nforall(i in classList)\\n    (\\n        sum(d in daysPerWeek)(count(teacherRoutine[classDetails[i,1],d,..],i))==classDetails[i,3]\\n    );\\n\\n% matching teacher\\'s routine with students\\'\\nconstraint \\nforall(i in classList,d in daysPerWeek, s in slotsPerDay)\\n    (\\n        if teacherRoutine[classDetails[i,1],d,s] == i \\n        then sectionRoutine[classDetails[i,2],d,s] == i \\n        else true \\n        endif\\n    );\\n\\n% considering teacher\\'s availability\\nconstraint\\nforall(t in teacherList, d in daysPerWeek, s in slotsPerDay)\\n    (\\n        if teacherBusy[t,d,s] == 1\\n        then teacherRoutine[t,d,s] = 0\\n        else true\\n        endif\\n    );\\n\\n\\nsolve satisfy;\\n'\u001b[0m\u001b[0;34m)\u001b[0m\u001b[0;34m\u001b[0m\u001b[0;34m\u001b[0m\u001b[0m\n\u001b[0m",
      "\u001b[0;32m~/anaconda3/lib/python3.7/site-packages/IPython/core/interactiveshell.py\u001b[0m in \u001b[0;36mrun_cell_magic\u001b[0;34m(self, magic_name, line, cell)\u001b[0m\n\u001b[1;32m   2356\u001b[0m             \u001b[0;32mwith\u001b[0m \u001b[0mself\u001b[0m\u001b[0;34m.\u001b[0m\u001b[0mbuiltin_trap\u001b[0m\u001b[0;34m:\u001b[0m\u001b[0;34m\u001b[0m\u001b[0;34m\u001b[0m\u001b[0m\n\u001b[1;32m   2357\u001b[0m                 \u001b[0margs\u001b[0m \u001b[0;34m=\u001b[0m \u001b[0;34m(\u001b[0m\u001b[0mmagic_arg_s\u001b[0m\u001b[0;34m,\u001b[0m \u001b[0mcell\u001b[0m\u001b[0;34m)\u001b[0m\u001b[0;34m\u001b[0m\u001b[0;34m\u001b[0m\u001b[0m\n\u001b[0;32m-> 2358\u001b[0;31m                 \u001b[0mresult\u001b[0m \u001b[0;34m=\u001b[0m \u001b[0mfn\u001b[0m\u001b[0;34m(\u001b[0m\u001b[0;34m*\u001b[0m\u001b[0margs\u001b[0m\u001b[0;34m,\u001b[0m \u001b[0;34m**\u001b[0m\u001b[0mkwargs\u001b[0m\u001b[0;34m)\u001b[0m\u001b[0;34m\u001b[0m\u001b[0;34m\u001b[0m\u001b[0m\n\u001b[0m\u001b[1;32m   2359\u001b[0m             \u001b[0;32mreturn\u001b[0m \u001b[0mresult\u001b[0m\u001b[0;34m\u001b[0m\u001b[0;34m\u001b[0m\u001b[0m\n\u001b[1;32m   2360\u001b[0m \u001b[0;34m\u001b[0m\u001b[0m\n",
      "\u001b[0;32m</home/mushfiqur11/anaconda3/lib/python3.7/site-packages/decorator.py:decorator-gen-126>\u001b[0m in \u001b[0;36mminizinc\u001b[0;34m(self, line, cell)\u001b[0m\n",
      "\u001b[0;32m~/anaconda3/lib/python3.7/site-packages/IPython/core/magic.py\u001b[0m in \u001b[0;36m<lambda>\u001b[0;34m(f, *a, **k)\u001b[0m\n\u001b[1;32m    185\u001b[0m     \u001b[0;31m# but it's overkill for just that one bit of state.\u001b[0m\u001b[0;34m\u001b[0m\u001b[0;34m\u001b[0m\u001b[0;34m\u001b[0m\u001b[0m\n\u001b[1;32m    186\u001b[0m     \u001b[0;32mdef\u001b[0m \u001b[0mmagic_deco\u001b[0m\u001b[0;34m(\u001b[0m\u001b[0marg\u001b[0m\u001b[0;34m)\u001b[0m\u001b[0;34m:\u001b[0m\u001b[0;34m\u001b[0m\u001b[0;34m\u001b[0m\u001b[0m\n\u001b[0;32m--> 187\u001b[0;31m         \u001b[0mcall\u001b[0m \u001b[0;34m=\u001b[0m \u001b[0;32mlambda\u001b[0m \u001b[0mf\u001b[0m\u001b[0;34m,\u001b[0m \u001b[0;34m*\u001b[0m\u001b[0ma\u001b[0m\u001b[0;34m,\u001b[0m \u001b[0;34m**\u001b[0m\u001b[0mk\u001b[0m\u001b[0;34m:\u001b[0m \u001b[0mf\u001b[0m\u001b[0;34m(\u001b[0m\u001b[0;34m*\u001b[0m\u001b[0ma\u001b[0m\u001b[0;34m,\u001b[0m \u001b[0;34m**\u001b[0m\u001b[0mk\u001b[0m\u001b[0;34m)\u001b[0m\u001b[0;34m\u001b[0m\u001b[0;34m\u001b[0m\u001b[0m\n\u001b[0m\u001b[1;32m    188\u001b[0m \u001b[0;34m\u001b[0m\u001b[0m\n\u001b[1;32m    189\u001b[0m         \u001b[0;32mif\u001b[0m \u001b[0mcallable\u001b[0m\u001b[0;34m(\u001b[0m\u001b[0marg\u001b[0m\u001b[0;34m)\u001b[0m\u001b[0;34m:\u001b[0m\u001b[0;34m\u001b[0m\u001b[0;34m\u001b[0m\u001b[0m\n",
      "\u001b[0;32m~/anaconda3/lib/python3.7/site-packages/iminizinc/mzn.py\u001b[0m in \u001b[0;36mminizinc\u001b[0;34m(self, line, cell)\u001b[0m\n\u001b[1;32m    145\u001b[0m                                              \u001b[0;34m+\u001b[0m \u001b[0mjsondata\u001b[0m \u001b[0;34m+\u001b[0m \u001b[0margs\u001b[0m\u001b[0;34m.\u001b[0m\u001b[0mdata\u001b[0m\u001b[0;34m,\u001b[0m\u001b[0;34m\u001b[0m\u001b[0;34m\u001b[0m\u001b[0m\n\u001b[1;32m    146\u001b[0m                                              stdout=subprocess.PIPE, stderr=subprocess.PIPE, env=my_env)\n\u001b[0;32m--> 147\u001b[0;31m                     \u001b[0;34m(\u001b[0m\u001b[0mmznoutput\u001b[0m\u001b[0;34m,\u001b[0m \u001b[0merroutput\u001b[0m\u001b[0;34m)\u001b[0m \u001b[0;34m=\u001b[0m \u001b[0mpipes\u001b[0m\u001b[0;34m.\u001b[0m\u001b[0mcommunicate\u001b[0m\u001b[0;34m(\u001b[0m\u001b[0;34m)\u001b[0m\u001b[0;34m\u001b[0m\u001b[0;34m\u001b[0m\u001b[0m\n\u001b[0m\u001b[1;32m    148\u001b[0m                     \u001b[0;32mif\u001b[0m \u001b[0mpipes\u001b[0m\u001b[0;34m.\u001b[0m\u001b[0mreturncode\u001b[0m \u001b[0;34m!=\u001b[0m \u001b[0;36m0\u001b[0m\u001b[0;34m:\u001b[0m\u001b[0;34m\u001b[0m\u001b[0;34m\u001b[0m\u001b[0m\n\u001b[1;32m    149\u001b[0m                         \u001b[0mprint\u001b[0m\u001b[0;34m(\u001b[0m\u001b[0;34m\"Error in MiniZinc:\\n\"\u001b[0m \u001b[0;34m+\u001b[0m \u001b[0merroutput\u001b[0m\u001b[0;34m.\u001b[0m\u001b[0mdecode\u001b[0m\u001b[0;34m(\u001b[0m\u001b[0;34m)\u001b[0m\u001b[0;34m)\u001b[0m\u001b[0;34m\u001b[0m\u001b[0;34m\u001b[0m\u001b[0m\n",
      "\u001b[0;32m~/anaconda3/lib/python3.7/subprocess.py\u001b[0m in \u001b[0;36mcommunicate\u001b[0;34m(self, input, timeout)\u001b[0m\n\u001b[1;32m    937\u001b[0m \u001b[0;34m\u001b[0m\u001b[0m\n\u001b[1;32m    938\u001b[0m             \u001b[0;32mtry\u001b[0m\u001b[0;34m:\u001b[0m\u001b[0;34m\u001b[0m\u001b[0;34m\u001b[0m\u001b[0m\n\u001b[0;32m--> 939\u001b[0;31m                 \u001b[0mstdout\u001b[0m\u001b[0;34m,\u001b[0m \u001b[0mstderr\u001b[0m \u001b[0;34m=\u001b[0m \u001b[0mself\u001b[0m\u001b[0;34m.\u001b[0m\u001b[0m_communicate\u001b[0m\u001b[0;34m(\u001b[0m\u001b[0minput\u001b[0m\u001b[0;34m,\u001b[0m \u001b[0mendtime\u001b[0m\u001b[0;34m,\u001b[0m \u001b[0mtimeout\u001b[0m\u001b[0;34m)\u001b[0m\u001b[0;34m\u001b[0m\u001b[0;34m\u001b[0m\u001b[0m\n\u001b[0m\u001b[1;32m    940\u001b[0m             \u001b[0;32mexcept\u001b[0m \u001b[0mKeyboardInterrupt\u001b[0m\u001b[0;34m:\u001b[0m\u001b[0;34m\u001b[0m\u001b[0;34m\u001b[0m\u001b[0m\n\u001b[1;32m    941\u001b[0m                 \u001b[0;31m# https://bugs.python.org/issue25942\u001b[0m\u001b[0;34m\u001b[0m\u001b[0;34m\u001b[0m\u001b[0;34m\u001b[0m\u001b[0m\n",
      "\u001b[0;32m~/anaconda3/lib/python3.7/subprocess.py\u001b[0m in \u001b[0;36m_communicate\u001b[0;34m(self, input, endtime, orig_timeout)\u001b[0m\n\u001b[1;32m   1679\u001b[0m                         \u001b[0;32mraise\u001b[0m \u001b[0mTimeoutExpired\u001b[0m\u001b[0;34m(\u001b[0m\u001b[0mself\u001b[0m\u001b[0;34m.\u001b[0m\u001b[0margs\u001b[0m\u001b[0;34m,\u001b[0m \u001b[0morig_timeout\u001b[0m\u001b[0;34m)\u001b[0m\u001b[0;34m\u001b[0m\u001b[0;34m\u001b[0m\u001b[0m\n\u001b[1;32m   1680\u001b[0m \u001b[0;34m\u001b[0m\u001b[0m\n\u001b[0;32m-> 1681\u001b[0;31m                     \u001b[0mready\u001b[0m \u001b[0;34m=\u001b[0m \u001b[0mselector\u001b[0m\u001b[0;34m.\u001b[0m\u001b[0mselect\u001b[0m\u001b[0;34m(\u001b[0m\u001b[0mtimeout\u001b[0m\u001b[0;34m)\u001b[0m\u001b[0;34m\u001b[0m\u001b[0;34m\u001b[0m\u001b[0m\n\u001b[0m\u001b[1;32m   1682\u001b[0m                     \u001b[0mself\u001b[0m\u001b[0;34m.\u001b[0m\u001b[0m_check_timeout\u001b[0m\u001b[0;34m(\u001b[0m\u001b[0mendtime\u001b[0m\u001b[0;34m,\u001b[0m \u001b[0morig_timeout\u001b[0m\u001b[0;34m)\u001b[0m\u001b[0;34m\u001b[0m\u001b[0;34m\u001b[0m\u001b[0m\n\u001b[1;32m   1683\u001b[0m \u001b[0;34m\u001b[0m\u001b[0m\n",
      "\u001b[0;32m~/anaconda3/lib/python3.7/selectors.py\u001b[0m in \u001b[0;36mselect\u001b[0;34m(self, timeout)\u001b[0m\n\u001b[1;32m    413\u001b[0m         \u001b[0mready\u001b[0m \u001b[0;34m=\u001b[0m \u001b[0;34m[\u001b[0m\u001b[0;34m]\u001b[0m\u001b[0;34m\u001b[0m\u001b[0;34m\u001b[0m\u001b[0m\n\u001b[1;32m    414\u001b[0m         \u001b[0;32mtry\u001b[0m\u001b[0;34m:\u001b[0m\u001b[0;34m\u001b[0m\u001b[0;34m\u001b[0m\u001b[0m\n\u001b[0;32m--> 415\u001b[0;31m             \u001b[0mfd_event_list\u001b[0m \u001b[0;34m=\u001b[0m \u001b[0mself\u001b[0m\u001b[0;34m.\u001b[0m\u001b[0m_selector\u001b[0m\u001b[0;34m.\u001b[0m\u001b[0mpoll\u001b[0m\u001b[0;34m(\u001b[0m\u001b[0mtimeout\u001b[0m\u001b[0;34m)\u001b[0m\u001b[0;34m\u001b[0m\u001b[0;34m\u001b[0m\u001b[0m\n\u001b[0m\u001b[1;32m    416\u001b[0m         \u001b[0;32mexcept\u001b[0m \u001b[0mInterruptedError\u001b[0m\u001b[0;34m:\u001b[0m\u001b[0;34m\u001b[0m\u001b[0;34m\u001b[0m\u001b[0m\n\u001b[1;32m    417\u001b[0m             \u001b[0;32mreturn\u001b[0m \u001b[0mready\u001b[0m\u001b[0;34m\u001b[0m\u001b[0;34m\u001b[0m\u001b[0m\n",
      "\u001b[0;31mKeyboardInterrupt\u001b[0m: "
     ]
    }
   ],
   "source": [
    "%%minizinc -m bind\n",
    "\n",
    "include \"globals.mzn\";\n",
    "set of int: slotsPerDay = 1..6;\n",
    "set of int: daysPerWeek = 1..5;\n",
    "\n",
    "set of int: properties = 1..3; \n",
    "%property0 = teacher\n",
    "%property1 = section\n",
    "%property2 = hours per week\n",
    "\n",
    "int: classes;\n",
    "int: rooms;\n",
    "int: sections;\n",
    "int: teachers;\n",
    "\n",
    "set of int: sectionList = 1..sections;\n",
    "set of int: teacherList = 1..teachers;\n",
    "set of int: roomList = 1..rooms;\n",
    "set of int: classList = 1..classes;\n",
    "set of int: classIndex = 0..classes;\n",
    "\n",
    "array[classList,properties] of int: classDetails;\n",
    "\n",
    "array[teacherList,daysPerWeek,slotsPerDay] of var classIndex: teacherRoutine;\n",
    "array[teacherList,daysPerWeek,slotsPerDay] of 0..1: teacherBusy;\n",
    "array[sectionList,daysPerWeek,slotsPerDay] of var classIndex: sectionRoutine;\n",
    "array[roomList,daysPerWeek,slotsPerDay] of var classIndex: roomRoutine;\n",
    "\n",
    "% a class will not be repeated in the same day\n",
    "constraint \n",
    "forall(i in classList, d in daysPerWeek)\n",
    "    (\n",
    "        count(teacherRoutine[classDetails[i,1],d,..],i)<=1\n",
    "    );\n",
    "\n",
    "% total hours of each course will be equal to the credit hour\n",
    "constraint \n",
    "forall(i in classList)\n",
    "    (\n",
    "        sum(d in daysPerWeek)(count(teacherRoutine[classDetails[i,1],d,..],i))==classDetails[i,3]\n",
    "    );\n",
    "\n",
    "% matching teacher's routine with students'\n",
    "constraint \n",
    "forall(i in classList,d in daysPerWeek, s in slotsPerDay)\n",
    "    (\n",
    "        if teacherRoutine[classDetails[i,1],d,s] == i \n",
    "        then sectionRoutine[classDetails[i,2],d,s] == i \n",
    "        else true \n",
    "        endif\n",
    "    );\n",
    "\n",
    "% considering teacher's availability\n",
    "constraint\n",
    "forall(t in teacherList, d in daysPerWeek, s in slotsPerDay)\n",
    "    (\n",
    "        if teacherBusy[t,d,s] == 1\n",
    "        then teacherRoutine[t,d,s] = 0\n",
    "        else true\n",
    "        endif\n",
    "    );\n",
    "\n",
    "\n",
    "solve satisfy;"
   ]
  },
  {
   "cell_type": "markdown",
   "metadata": {},
   "source": [
    "### Print Output"
   ]
  },
  {
   "cell_type": "code",
   "execution_count": 157,
   "metadata": {
    "scrolled": false
   },
   "outputs": [
    {
     "name": "stdout",
     "output_type": "stream",
     "text": [
      "[[[0 5 0 0 0 0]\n",
      "  [3 5 0 0 0 0]\n",
      "  [3 1 0 0 0 0]\n",
      "  [1 0 0 0 0 0]\n",
      "  [0 0 0 0 0 0]]\n",
      "\n",
      " [[6 0 0 0 0 0]\n",
      "  [6 0 4 0 0 0]\n",
      "  [6 4 2 0 0 0]\n",
      "  [4 2 0 0 0 0]\n",
      "  [0 0 0 0 0 0]]]\n"
     ]
    }
   ],
   "source": [
    "print(np.array(sectionRoutine))"
   ]
  },
  {
   "cell_type": "code",
   "execution_count": 158,
   "metadata": {},
   "outputs": [
    {
     "name": "stdout",
     "output_type": "stream",
     "text": [
      "[[[0 0 0 0 0 0]\n",
      "  [0 0 0 0 0 0]\n",
      "  [0 1 2 0 0 0]\n",
      "  [1 2 0 0 0 0]\n",
      "  [0 0 0 0 0 0]]\n",
      "\n",
      " [[0 0 0 0 0 0]\n",
      "  [3 0 4 0 0 0]\n",
      "  [3 4 0 0 0 0]\n",
      "  [4 0 0 0 0 0]\n",
      "  [0 0 0 0 0 0]]\n",
      "\n",
      " [[6 5 0 0 0 0]\n",
      "  [6 5 0 0 0 0]\n",
      "  [6 0 0 0 0 0]\n",
      "  [0 0 0 0 0 0]\n",
      "  [0 0 0 0 0 0]]]\n"
     ]
    }
   ],
   "source": [
    "print(np.array(teacherRoutine))"
   ]
  },
  {
   "cell_type": "code",
   "execution_count": 71,
   "metadata": {},
   "outputs": [
    {
     "data": {
      "text/plain": [
       "(3, 5, 6)"
      ]
     },
     "execution_count": 71,
     "metadata": {},
     "output_type": "execute_result"
    }
   ],
   "source": [
    "np.array(teacherRoutine).shape"
   ]
  },
  {
   "cell_type": "code",
   "execution_count": null,
   "metadata": {},
   "outputs": [],
   "source": []
  }
 ],
 "metadata": {
  "kernelspec": {
   "display_name": "Python 3",
   "language": "python",
   "name": "python3"
  },
  "language_info": {
   "codemirror_mode": {
    "name": "ipython",
    "version": 3
   },
   "file_extension": ".py",
   "mimetype": "text/x-python",
   "name": "python",
   "nbconvert_exporter": "python",
   "pygments_lexer": "ipython3",
   "version": "3.7.3"
  }
 },
 "nbformat": 4,
 "nbformat_minor": 2
}
